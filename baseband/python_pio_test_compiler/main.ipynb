{
 "cells": [
  {
   "cell_type": "code",
   "execution_count": 6,
   "id": "initial_id",
   "metadata": {
    "ExecuteTime": {
     "end_time": "2024-05-07T11:17:23.833639Z",
     "start_time": "2024-05-07T11:17:23.549863Z"
    }
   },
   "outputs": [],
   "source": [
    "from generate_python_script import PioState, EmptyOutBufferException"
   ]
  },
  {
   "cell_type": "code",
   "execution_count": 7,
   "id": "9487ecf243c426a2",
   "metadata": {
    "ExecuteTime": {
     "end_time": "2024-05-07T11:17:23.850390Z",
     "start_time": "2024-05-07T11:17:23.835277Z"
    },
    "collapsed": false,
    "jupyter": {
     "outputs_hidden": false
    }
   },
   "outputs": [],
   "source": [
    "def get_program_text() -> str:\n",
    "    with open(\"test2.pio\", \"r\") as file1:\n",
    "        # Reading from a file\n",
    "        return file1.read()\n",
    "\n",
    "\n",
    "program: str = get_program_text()"
   ]
  },
  {
   "cell_type": "code",
   "execution_count": 8,
   "id": "ccc18fd8f285ff8e",
   "metadata": {
    "ExecuteTime": {
     "end_time": "2024-05-07T11:17:23.863761Z",
     "start_time": "2024-05-07T11:17:23.847104Z"
    },
    "collapsed": false,
    "jupyter": {
     "outputs_hidden": false
    }
   },
   "outputs": [],
   "source": [
    "from typing import List\n",
    "\n",
    "data: List[int] = [\n",
    "    0b01101101101101101101101111011011,\n",
    "    0b01101101101101101101100000000000\n",
    "]"
   ]
  },
  {
   "cell_type": "code",
   "execution_count": 9,
   "id": "a5a284e09a9102c2",
   "metadata": {
    "ExecuteTime": {
     "end_time": "2024-05-07T11:17:23.879541Z",
     "start_time": "2024-05-07T11:17:23.859429Z"
    },
    "collapsed": false,
    "jupyter": {
     "outputs_hidden": false
    }
   },
   "outputs": [],
   "source": [
    "from typing import Tuple\n",
    "\n",
    "\n",
    "def get_x_and_y() -> Tuple[int, int]:\n",
    "    out_buffer = PioState.create_out_buffer(data)\n",
    "    state = PioState.start(program=program, out_buffer=out_buffer)\n",
    "    x = []\n",
    "    y = []\n",
    "    try:\n",
    "        while True:\n",
    "            if state.internal_pin:\n",
    "                y += [10]\n",
    "            else:\n",
    "                y += [0]\n",
    "            x += [state.step]\n",
    "\n",
    "            state.process_next_step()\n",
    "    except EmptyOutBufferException:\n",
    "\n",
    "        return x, y\n"
   ]
  },
  {
   "cell_type": "code",
   "execution_count": 10,
   "id": "e74cee30a29cd250",
   "metadata": {
    "ExecuteTime": {
     "end_time": "2024-05-07T11:17:24.618885Z",
     "start_time": "2024-05-07T11:17:23.867743Z"
    },
    "collapsed": false,
    "jupyter": {
     "outputs_hidden": false
    }
   },
   "outputs": [
    {
     "ename": "IndexError",
     "evalue": "string index out of range",
     "output_type": "error",
     "traceback": [
      "\u001b[0;31m---------------------------------------------------------------------------\u001b[0m",
      "\u001b[0;31mIndexError\u001b[0m                                Traceback (most recent call last)",
      "Cell \u001b[0;32mIn[10], line 1\u001b[0m\n\u001b[0;32m----> 1\u001b[0m (x, y) \u001b[38;5;241m=\u001b[39m \u001b[43mget_x_and_y\u001b[49m\u001b[43m(\u001b[49m\u001b[43m)\u001b[49m\n\u001b[1;32m      2\u001b[0m \u001b[38;5;28mprint\u001b[39m(x, y)\n",
      "Cell \u001b[0;32mIn[9], line 6\u001b[0m, in \u001b[0;36mget_x_and_y\u001b[0;34m()\u001b[0m\n\u001b[1;32m      4\u001b[0m \u001b[38;5;28;01mdef\u001b[39;00m \u001b[38;5;21mget_x_and_y\u001b[39m() \u001b[38;5;241m-\u001b[39m\u001b[38;5;241m>\u001b[39m Tuple[\u001b[38;5;28mint\u001b[39m, \u001b[38;5;28mint\u001b[39m]:\n\u001b[1;32m      5\u001b[0m     out_buffer \u001b[38;5;241m=\u001b[39m PioState\u001b[38;5;241m.\u001b[39mcreate_out_buffer(data)\n\u001b[0;32m----> 6\u001b[0m     state \u001b[38;5;241m=\u001b[39m \u001b[43mPioState\u001b[49m\u001b[38;5;241;43m.\u001b[39;49m\u001b[43mstart\u001b[49m\u001b[43m(\u001b[49m\u001b[43mprogram\u001b[49m\u001b[38;5;241;43m=\u001b[39;49m\u001b[43mprogram\u001b[49m\u001b[43m,\u001b[49m\u001b[43m \u001b[49m\u001b[43mout_buffer\u001b[49m\u001b[38;5;241;43m=\u001b[39;49m\u001b[43mout_buffer\u001b[49m\u001b[43m)\u001b[49m\n\u001b[1;32m      7\u001b[0m     x \u001b[38;5;241m=\u001b[39m []\n\u001b[1;32m      8\u001b[0m     y \u001b[38;5;241m=\u001b[39m []\n",
      "File \u001b[0;32m~/github/wcnes-project2024_G2/baseband/python_pio_test_compiler/generate_python_script.py:265\u001b[0m, in \u001b[0;36mPioState.start\u001b[0;34m(program, out_buffer)\u001b[0m\n\u001b[1;32m    261\u001b[0m \u001b[38;5;129m@staticmethod\u001b[39m\n\u001b[1;32m    262\u001b[0m \u001b[38;5;28;01mdef\u001b[39;00m \u001b[38;5;21mstart\u001b[39m(program: \u001b[38;5;28mstr\u001b[39m, out_buffer: List[\u001b[38;5;28mint\u001b[39m]):\n\u001b[1;32m    263\u001b[0m     \u001b[38;5;66;03m# removes comments, splits by newline\u001b[39;00m\n\u001b[1;32m    264\u001b[0m     code \u001b[38;5;241m=\u001b[39m [v[\u001b[38;5;241m0\u001b[39m]\u001b[38;5;241m.\u001b[39mstrip() \u001b[38;5;28;01mfor\u001b[39;00m v \u001b[38;5;129;01min\u001b[39;00m [x\u001b[38;5;241m.\u001b[39msplit(\u001b[38;5;124m\"\u001b[39m\u001b[38;5;124m;\u001b[39m\u001b[38;5;124m\"\u001b[39m) \u001b[38;5;28;01mfor\u001b[39;00m x \u001b[38;5;129;01min\u001b[39;00m program\u001b[38;5;241m.\u001b[39msplit(\u001b[38;5;124m\"\u001b[39m\u001b[38;5;130;01m\\n\u001b[39;00m\u001b[38;5;124m\"\u001b[39m)]]\n\u001b[0;32m--> 265\u001b[0m     state \u001b[38;5;241m=\u001b[39m PioState(out_buffer\u001b[38;5;241m=\u001b[39mout_buffer, jump_labels\u001b[38;5;241m=\u001b[39m\u001b[43mPioState\u001b[49m\u001b[38;5;241;43m.\u001b[39;49m\u001b[43mget_labels_dict\u001b[49m\u001b[43m(\u001b[49m\u001b[43mcode\u001b[49m\u001b[43m)\u001b[49m, code\u001b[38;5;241m=\u001b[39mcode)\n\u001b[1;32m    267\u001b[0m     \u001b[38;5;28;01mreturn\u001b[39;00m state\n",
      "File \u001b[0;32m~/github/wcnes-project2024_G2/baseband/python_pio_test_compiler/generate_python_script.py:92\u001b[0m, in \u001b[0;36mPioState.get_labels_dict\u001b[0;34m(cls, code)\u001b[0m\n\u001b[1;32m     90\u001b[0m     \u001b[38;5;28;01mif\u001b[39;00m split[\u001b[38;5;241m0\u001b[39m] \u001b[38;5;241m==\u001b[39m \u001b[38;5;124m\"\u001b[39m\u001b[38;5;124m.wrap_target\u001b[39m\u001b[38;5;124m\"\u001b[39m:\n\u001b[1;32m     91\u001b[0m         labels_dict[split[\u001b[38;5;241m0\u001b[39m]] \u001b[38;5;241m=\u001b[39m i\n\u001b[0;32m---> 92\u001b[0m     \u001b[38;5;28;01melif\u001b[39;00m \u001b[43msplit\u001b[49m\u001b[43m[\u001b[49m\u001b[38;5;241;43m0\u001b[39;49m\u001b[43m]\u001b[49m\u001b[43m[\u001b[49m\u001b[38;5;241;43m-\u001b[39;49m\u001b[38;5;241;43m1\u001b[39;49m\u001b[43m]\u001b[49m \u001b[38;5;241m==\u001b[39m \u001b[38;5;124m\"\u001b[39m\u001b[38;5;124m:\u001b[39m\u001b[38;5;124m\"\u001b[39m:\n\u001b[1;32m     93\u001b[0m         labels_dict[split[\u001b[38;5;241m0\u001b[39m]\u001b[38;5;241m.\u001b[39mreplace(\u001b[38;5;124m\"\u001b[39m\u001b[38;5;124m:\u001b[39m\u001b[38;5;124m\"\u001b[39m, \u001b[38;5;124m\"\u001b[39m\u001b[38;5;124m\"\u001b[39m)] \u001b[38;5;241m=\u001b[39m i\n\u001b[1;32m     94\u001b[0m \u001b[38;5;28;01mreturn\u001b[39;00m labels_dict\n",
      "\u001b[0;31mIndexError\u001b[0m: string index out of range"
     ]
    }
   ],
   "source": [
    "(x, y) = get_x_and_y()\n",
    "print(x, y)"
   ]
  },
  {
   "cell_type": "code",
   "execution_count": 11,
   "id": "59780737604b86e1",
   "metadata": {
    "ExecuteTime": {
     "end_time": "2024-05-07T11:17:24.641598Z",
     "start_time": "2024-05-07T11:17:24.619792Z"
    },
    "collapsed": false,
    "jupyter": {
     "outputs_hidden": false
    }
   },
   "outputs": [],
   "source": [
    "def make_lines_straight(x: List[int], y: List[int]) -> Tuple[List[int], List[int]]:\n",
    "    y_new = [x[0]]\n",
    "    x_new = [y[0]]\n",
    "    for yi, yv in enumerate(y[1:]):\n",
    "        yi += 1\n",
    "        if y[yi - 1] != yv:\n",
    "            y_new.append(y[yi - 1])\n",
    "            x_new.append(x[yi])\n",
    "        y_new.append(yv)\n",
    "        x_new.append(x[yi])\n",
    "    return x_new, y_new\n",
    "\n"
   ]
  },
  {
   "cell_type": "code",
   "execution_count": 12,
   "id": "5b3bae7b66442f66",
   "metadata": {
    "ExecuteTime": {
     "start_time": "2024-05-07T11:17:24.628214Z"
    },
    "collapsed": false,
    "jupyter": {
     "outputs_hidden": false
    }
   },
   "outputs": [],
   "source": [
    "def to_graph(list_ints: List[int]):\n",
    "    f = go.FigureWidget()\n",
    "    f.update_layout(\n",
    "        xaxis=dict(\n",
    "            tickmode='linear',\n",
    "            tick0=0,\n",
    "            dtick=4\n",
    "        )\n",
    "    )\n",
    "    is_high = list_ints[0] == 1\n",
    "    values = list_ints[1:]\n",
    "    x = []\n",
    "    y = []\n",
    "    idx = 0\n",
    "    is_high = not is_high  # invert to un invert on first iter\n",
    "    for val in values:\n",
    "        is_high = not is_high\n",
    "        for _ in range(val):\n",
    "            x.append(idx)\n",
    "            y.append(10 if is_high else 0)\n",
    "            idx += 1\n",
    "    x, y = make_lines_straight(x, y)\n",
    "    f.add_scatter(y=y, x=x)\n",
    "    return f"
   ]
  },
  {
   "cell_type": "code",
   "execution_count": 13,
   "id": "1394c552cb5a1fc7",
   "metadata": {
    "ExecuteTime": {
     "start_time": "2024-05-07T11:17:24.633357Z"
    },
    "collapsed": false,
    "jupyter": {
     "outputs_hidden": false
    }
   },
   "outputs": [
    {
     "ename": "NameError",
     "evalue": "name 'x' is not defined",
     "output_type": "error",
     "traceback": [
      "\u001b[0;31m---------------------------------------------------------------------------\u001b[0m",
      "\u001b[0;31mNameError\u001b[0m                                 Traceback (most recent call last)",
      "Cell \u001b[0;32mIn[13], line 5\u001b[0m\n\u001b[1;32m      2\u001b[0m \u001b[38;5;28;01mimport\u001b[39;00m \u001b[38;5;21;01mplotly\u001b[39;00m\u001b[38;5;21;01m.\u001b[39;00m\u001b[38;5;21;01mgraph_objects\u001b[39;00m \u001b[38;5;28;01mas\u001b[39;00m \u001b[38;5;21;01mgo\u001b[39;00m\n\u001b[1;32m      4\u001b[0m f \u001b[38;5;241m=\u001b[39m go\u001b[38;5;241m.\u001b[39mFigureWidget()\n\u001b[0;32m----> 5\u001b[0m (x, y) \u001b[38;5;241m=\u001b[39m make_lines_straight(\u001b[43mx\u001b[49m, y)\n\u001b[1;32m      6\u001b[0m f\u001b[38;5;241m.\u001b[39madd_scatter(y\u001b[38;5;241m=\u001b[39my, x\u001b[38;5;241m=\u001b[39mx)\n\u001b[1;32m      7\u001b[0m f\u001b[38;5;241m.\u001b[39mupdate_layout(\n\u001b[1;32m      8\u001b[0m     xaxis\u001b[38;5;241m=\u001b[39m\u001b[38;5;28mdict\u001b[39m(\n\u001b[1;32m      9\u001b[0m         tickmode\u001b[38;5;241m=\u001b[39m\u001b[38;5;124m'\u001b[39m\u001b[38;5;124mlinear\u001b[39m\u001b[38;5;124m'\u001b[39m,\n\u001b[0;32m   (...)\u001b[0m\n\u001b[1;32m     12\u001b[0m     )\n\u001b[1;32m     13\u001b[0m )\n",
      "\u001b[0;31mNameError\u001b[0m: name 'x' is not defined"
     ]
    }
   ],
   "source": [
    "\n",
    "import ipywidgets as widgets\n",
    "import plotly.graph_objects as go\n",
    "\n",
    "f = go.FigureWidget()\n",
    "(x, y) = make_lines_straight(x, y)\n",
    "f.add_scatter(y=y, x=x)\n",
    "f.update_layout(\n",
    "    xaxis=dict(\n",
    "        tickmode='linear',\n",
    "        tick0=0,\n",
    "        dtick=4\n",
    "    )\n",
    ")\n",
    "\n",
    "\n",
    "def update_plot(initial: Tuple[int, int] = (1, 1)):\n",
    "    scatter = f.data[0]\n",
    "    scatter.y = y[initial[0]:initial[1]]\n",
    "    scatter.x = x[initial[0]:initial[1]]\n",
    "\n",
    "\n",
    "data_range = widgets.IntRangeSlider(\n",
    "    value=[0, x[-1]],\n",
    "    min=0,\n",
    "    max=x[-1],\n",
    "    step=1,\n",
    "    description='Test:',\n",
    "    disabled=False,\n",
    "    # continuous_update=False,\n",
    "    orientation='horizontal',\n",
    "    readout=True,\n",
    "    readout_format='d',\n",
    "    layout=widgets.Layout(width='100%')\n",
    ")\n",
    "\n",
    "slider = widgets.interactive(update_plot, initial=data_range)\n"
   ]
  },
  {
   "cell_type": "code",
   "execution_count": null,
   "id": "8c8c45031548e680",
   "metadata": {
    "ExecuteTime": {
     "start_time": "2024-05-07T11:17:24.639635Z"
    },
    "collapsed": false,
    "jupyter": {
     "outputs_hidden": false
    }
   },
   "outputs": [],
   "source": [
    "slider"
   ]
  },
  {
   "cell_type": "code",
   "execution_count": null,
   "id": "8334721a311aa9b5",
   "metadata": {
    "ExecuteTime": {
     "end_time": "2024-05-07T11:17:24.656581Z",
     "start_time": "2024-05-07T11:17:24.647873Z"
    },
    "collapsed": false,
    "jupyter": {
     "outputs_hidden": false
    }
   },
   "outputs": [],
   "source": [
    "f"
   ]
  },
  {
   "cell_type": "code",
   "execution_count": 14,
   "id": "6fa43f125a73f5d9",
   "metadata": {
    "ExecuteTime": {
     "start_time": "2024-05-07T11:17:24.653605Z"
    },
    "collapsed": false,
    "jupyter": {
     "outputs_hidden": false
    }
   },
   "outputs": [
    {
     "data": {
      "application/vnd.jupyter.widget-view+json": {
       "model_id": "baac1921015543159b85e5825961ca84",
       "version_major": 2,
       "version_minor": 0
      },
      "text/plain": [
       "FigureWidget({\n",
       "    'data': [{'type': 'scatter',\n",
       "              'uid': '7ee21264-8a52-4855-8392-33b585ccc256',\n",
       "              'x': [0, 1, 2, 3, 4, 4, 5, 6, 7, 8, 9, 10, 11, 12, 12, 13, 14, 15,\n",
       "                    16, 17, 18, 19, 20, 20, 21, 22, 23, 24, 25, 26, 27, 28, 28, 29,\n",
       "                    30, 31, 32, 33, 34, 35, 36, 36, 37, 38, 39, 40, 41, 42, 43, 44,\n",
       "                    44, 45, 46, 47, 48, 49, 50, 51, 52, 52, 53, 54, 55, 56, 57, 58,\n",
       "                    59, 60, 60, 61, 62, 63, 64, 65, 66, 67, 68, 69, 70, 71, 72, 72,\n",
       "                    73, 74, 75, 76, 77, 78, 79, 80, 80, 81, 82, 83, 84, 85, 86, 87,\n",
       "                    88, 88, 89, 90, 91, 92, 93, 94, 95, 96, 96, 97, 98, 99, 100,\n",
       "                    101, 102, 103, 104, 104, 105, 106, 107, 108, 109, 110, 111,\n",
       "                    112, 112, 113, 114, 115, 116, 117, 118, 119, 120, 120, 121,\n",
       "                    122, 123, 124, 125, 126, 127, 128, 128, 129, 130, 131, 132,\n",
       "                    133, 134, 135, 136, 136, 137, 138, 139, 140, 141, 142, 143],\n",
       "              'y': [0, 0, 0, 0, 0, 10, 10, 10, 10, 10, 10, 10, 10, 10, 0, 0, 0, 0,\n",
       "                    0, 0, 0, 0, 0, 10, 10, 10, 10, 10, 10, 10, 10, 10, 0, 0, 0, 0,\n",
       "                    0, 0, 0, 0, 0, 10, 10, 10, 10, 10, 10, 10, 10, 10, 0, 0, 0, 0,\n",
       "                    0, 0, 0, 0, 0, 10, 10, 10, 10, 10, 10, 10, 10, 10, 0, 0, 0, 0,\n",
       "                    0, 0, 0, 0, 0, 0, 0, 0, 0, 10, 10, 10, 10, 10, 10, 10, 10, 10,\n",
       "                    0, 0, 0, 0, 0, 0, 0, 0, 0, 10, 10, 10, 10, 10, 10, 10, 10, 10,\n",
       "                    0, 0, 0, 0, 0, 0, 0, 0, 0, 10, 10, 10, 10, 10, 10, 10, 10, 10,\n",
       "                    0, 0, 0, 0, 0, 0, 0, 0, 0, 10, 10, 10, 10, 10, 10, 10, 10, 10,\n",
       "                    0, 0, 0, 0, 0, 0, 0, 0, 0, 10, 10, 10, 10, 10, 10, 10, 10]}],\n",
       "    'layout': {'template': '...', 'xaxis': {'dtick': 4, 'tick0': 0, 'tickmode': 'linear'}}\n",
       "})"
      ]
     },
     "execution_count": 14,
     "metadata": {},
     "output_type": "execute_result"
    }
   ],
   "source": [
    "to_graph([0, 4, 8, 8, 8, 8, 8, 8, 8, 12, 8, 8, 8, 8, 8, 8, 8, 8, 8])"
   ]
  },
  {
   "cell_type": "code",
   "execution_count": 15,
   "id": "8d9dd775a3eb515f",
   "metadata": {
    "ExecuteTime": {
     "end_time": "2024-05-07T11:17:24.738897Z",
     "start_time": "2024-05-07T11:17:24.659098Z"
    },
    "collapsed": false,
    "jupyter": {
     "outputs_hidden": false
    }
   },
   "outputs": [],
   "source": [
    "def to_bits(lengths: List[int]):\n",
    "    is_high = lengths[0] == 1\n",
    "    values = lengths[1:]\n",
    "    bits = []\n",
    "    if is_high:\n",
    "        bits.append(0)\n",
    "    for l in lengths:\n",
    "        if l == 4:\n",
    "            bits += [0]\n",
    "        if l == 8:\n",
    "            bits += [1, 1, 0]\n",
    "        if l == 12:\n",
    "            bits += [1, 1, 1, 1, 0]\n",
    "    print(bits)\n",
    "    bytes: List[str] = [\"\"]\n",
    "    idx = 0\n",
    "    for b in bits:\n",
    "        if len(bytes[idx]) >= 32:\n",
    "            idx += 1\n",
    "            bytes += [\"\"]\n",
    "        bytes[idx] += str(b)\n",
    "    while len(bytes[idx]) < 32:\n",
    "        bytes[idx] += str(0)\n",
    "    # for s in bytes:\n",
    "    #     print(\"0b\"+s)\n",
    "    return bytes\n"
   ]
  },
  {
   "cell_type": "code",
   "execution_count": 16,
   "id": "6fb448c7ff3242",
   "metadata": {
    "ExecuteTime": {
     "start_time": "2024-05-07T11:17:24.663877Z"
    },
    "collapsed": false,
    "jupyter": {
     "outputs_hidden": false
    }
   },
   "outputs": [
    {
     "name": "stdout",
     "output_type": "stream",
     "text": [
      "[0, 1, 1, 0, 1, 1, 0, 1, 1, 0, 1, 1, 0, 1, 1, 0, 1, 1, 0, 1, 1, 0, 1, 1, 1, 1, 0, 1, 1, 0, 1, 1, 0, 1, 1, 0, 1, 1, 0, 1, 1, 0, 1, 1, 0, 1, 1, 0, 1, 1, 0, 1, 1, 0]\n",
      "['01101101101101101101101111011011', '01101101101101101101100000000000']\n",
      "True\n",
      "0b01101101101101101101101111011011\n",
      "0b01101101101101101101100000000000\n"
     ]
    }
   ],
   "source": [
    "bytes = to_bits([0, 4, 8, 8, 8, 8, 8, 8, 8, 12, 8, 8, 8, 8, 8, 8, 8, 8, 8]);\n",
    "test = [\"01101101101101101101101111011011\",\n",
    "\"01101101101101101101100000000000\"]\n",
    "print(bytes)\n",
    "print(bytes==test)\n",
    "for i in range(len(bytes)):\n",
    "    print(\"0b\" + bytes[i])\n"
   ]
  },
  {
   "cell_type": "code",
   "execution_count": 17,
   "id": "bfec1e9fb630c6e6",
   "metadata": {
    "ExecuteTime": {
     "start_time": "2024-05-07T11:17:24.669711Z"
    },
    "collapsed": false,
    "jupyter": {
     "outputs_hidden": false
    }
   },
   "outputs": [
    {
     "ename": "IndexError",
     "evalue": "string index out of range",
     "output_type": "error",
     "traceback": [
      "\u001b[0;31m---------------------------------------------------------------------------\u001b[0m",
      "\u001b[0;31mIndexError\u001b[0m                                Traceback (most recent call last)",
      "Cell \u001b[0;32mIn[17], line 30\u001b[0m\n\u001b[1;32m     25\u001b[0m         \u001b[38;5;28;01mreturn\u001b[39;00m x, y,msg\n\u001b[1;32m     27\u001b[0m     \u001b[38;5;28;01mreturn\u001b[39;00m s, x, y\n\u001b[0;32m---> 30\u001b[0m next_step, xs, ys \u001b[38;5;241m=\u001b[39m \u001b[43mnext_step_gen\u001b[49m\u001b[43m(\u001b[49m\u001b[43m)\u001b[49m\n\u001b[1;32m     32\u001b[0m f \u001b[38;5;241m=\u001b[39m go\u001b[38;5;241m.\u001b[39mFigureWidget()\n\u001b[1;32m     34\u001b[0m f\u001b[38;5;241m.\u001b[39madd_scatter(y\u001b[38;5;241m=\u001b[39mys, x\u001b[38;5;241m=\u001b[39mxs)\n",
      "Cell \u001b[0;32mIn[17], line 8\u001b[0m, in \u001b[0;36mnext_step_gen\u001b[0;34m()\u001b[0m\n\u001b[1;32m      6\u001b[0m \u001b[38;5;28;01mdef\u001b[39;00m \u001b[38;5;21mnext_step_gen\u001b[39m() \u001b[38;5;241m-\u001b[39m\u001b[38;5;241m>\u001b[39m Tuple[Callable[[], Tuple[List[\u001b[38;5;28mint\u001b[39m], List[\u001b[38;5;28mint\u001b[39m], \u001b[38;5;28mstr\u001b[39m]], List[\u001b[38;5;28mint\u001b[39m], List[\u001b[38;5;28mint\u001b[39m]]:\n\u001b[1;32m      7\u001b[0m     out_buffer \u001b[38;5;241m=\u001b[39m PioState\u001b[38;5;241m.\u001b[39mcreate_out_buffer(data)\n\u001b[0;32m----> 8\u001b[0m     state \u001b[38;5;241m=\u001b[39m \u001b[43mPioState\u001b[49m\u001b[38;5;241;43m.\u001b[39;49m\u001b[43mstart\u001b[49m\u001b[43m(\u001b[49m\u001b[43mprogram\u001b[49m\u001b[38;5;241;43m=\u001b[39;49m\u001b[43mprogram\u001b[49m\u001b[43m,\u001b[49m\u001b[43m \u001b[49m\u001b[43mout_buffer\u001b[49m\u001b[38;5;241;43m=\u001b[39;49m\u001b[43mout_buffer\u001b[49m\u001b[43m)\u001b[49m\n\u001b[1;32m      9\u001b[0m     x: List[\u001b[38;5;28mint\u001b[39m] \u001b[38;5;241m=\u001b[39m []\n\u001b[1;32m     10\u001b[0m     y: List[\u001b[38;5;28mint\u001b[39m] \u001b[38;5;241m=\u001b[39m []\n",
      "File \u001b[0;32m~/github/wcnes-project2024_G2/baseband/python_pio_test_compiler/generate_python_script.py:265\u001b[0m, in \u001b[0;36mPioState.start\u001b[0;34m(program, out_buffer)\u001b[0m\n\u001b[1;32m    261\u001b[0m \u001b[38;5;129m@staticmethod\u001b[39m\n\u001b[1;32m    262\u001b[0m \u001b[38;5;28;01mdef\u001b[39;00m \u001b[38;5;21mstart\u001b[39m(program: \u001b[38;5;28mstr\u001b[39m, out_buffer: List[\u001b[38;5;28mint\u001b[39m]):\n\u001b[1;32m    263\u001b[0m     \u001b[38;5;66;03m# removes comments, splits by newline\u001b[39;00m\n\u001b[1;32m    264\u001b[0m     code \u001b[38;5;241m=\u001b[39m [v[\u001b[38;5;241m0\u001b[39m]\u001b[38;5;241m.\u001b[39mstrip() \u001b[38;5;28;01mfor\u001b[39;00m v \u001b[38;5;129;01min\u001b[39;00m [x\u001b[38;5;241m.\u001b[39msplit(\u001b[38;5;124m\"\u001b[39m\u001b[38;5;124m;\u001b[39m\u001b[38;5;124m\"\u001b[39m) \u001b[38;5;28;01mfor\u001b[39;00m x \u001b[38;5;129;01min\u001b[39;00m program\u001b[38;5;241m.\u001b[39msplit(\u001b[38;5;124m\"\u001b[39m\u001b[38;5;130;01m\\n\u001b[39;00m\u001b[38;5;124m\"\u001b[39m)]]\n\u001b[0;32m--> 265\u001b[0m     state \u001b[38;5;241m=\u001b[39m PioState(out_buffer\u001b[38;5;241m=\u001b[39mout_buffer, jump_labels\u001b[38;5;241m=\u001b[39m\u001b[43mPioState\u001b[49m\u001b[38;5;241;43m.\u001b[39;49m\u001b[43mget_labels_dict\u001b[49m\u001b[43m(\u001b[49m\u001b[43mcode\u001b[49m\u001b[43m)\u001b[49m, code\u001b[38;5;241m=\u001b[39mcode)\n\u001b[1;32m    267\u001b[0m     \u001b[38;5;28;01mreturn\u001b[39;00m state\n",
      "File \u001b[0;32m~/github/wcnes-project2024_G2/baseband/python_pio_test_compiler/generate_python_script.py:92\u001b[0m, in \u001b[0;36mPioState.get_labels_dict\u001b[0;34m(cls, code)\u001b[0m\n\u001b[1;32m     90\u001b[0m     \u001b[38;5;28;01mif\u001b[39;00m split[\u001b[38;5;241m0\u001b[39m] \u001b[38;5;241m==\u001b[39m \u001b[38;5;124m\"\u001b[39m\u001b[38;5;124m.wrap_target\u001b[39m\u001b[38;5;124m\"\u001b[39m:\n\u001b[1;32m     91\u001b[0m         labels_dict[split[\u001b[38;5;241m0\u001b[39m]] \u001b[38;5;241m=\u001b[39m i\n\u001b[0;32m---> 92\u001b[0m     \u001b[38;5;28;01melif\u001b[39;00m \u001b[43msplit\u001b[49m\u001b[43m[\u001b[49m\u001b[38;5;241;43m0\u001b[39;49m\u001b[43m]\u001b[49m\u001b[43m[\u001b[49m\u001b[38;5;241;43m-\u001b[39;49m\u001b[38;5;241;43m1\u001b[39;49m\u001b[43m]\u001b[49m \u001b[38;5;241m==\u001b[39m \u001b[38;5;124m\"\u001b[39m\u001b[38;5;124m:\u001b[39m\u001b[38;5;124m\"\u001b[39m:\n\u001b[1;32m     93\u001b[0m         labels_dict[split[\u001b[38;5;241m0\u001b[39m]\u001b[38;5;241m.\u001b[39mreplace(\u001b[38;5;124m\"\u001b[39m\u001b[38;5;124m:\u001b[39m\u001b[38;5;124m\"\u001b[39m, \u001b[38;5;124m\"\u001b[39m\u001b[38;5;124m\"\u001b[39m)] \u001b[38;5;241m=\u001b[39m i\n\u001b[1;32m     94\u001b[0m \u001b[38;5;28;01mreturn\u001b[39;00m labels_dict\n",
      "\u001b[0;31mIndexError\u001b[0m: string index out of range"
     ]
    }
   ],
   "source": [
    "from typing import Callable, Tuple, List\n",
    "import ipywidgets as widgets\n",
    "import plotly.graph_objects as go\n",
    "\n",
    "\n",
    "def next_step_gen() -> Tuple[Callable[[], Tuple[List[int], List[int], str]], List[int], List[int]]:\n",
    "    out_buffer = PioState.create_out_buffer(data)\n",
    "    state = PioState.start(program=program, out_buffer=out_buffer)\n",
    "    x: List[int] = []\n",
    "    y: List[int] = []\n",
    "    if state.internal_pin:\n",
    "        y += [10]\n",
    "    else:\n",
    "        y += [0]\n",
    "    x += [state.step]\n",
    "\n",
    "    def s():\n",
    "        nonlocal x, y\n",
    "        msg=state.process_next_step()\n",
    "        if state.internal_pin:\n",
    "            y += [10]\n",
    "        else:\n",
    "            y += [0]\n",
    "        x += [state.step]\n",
    "        return x, y,msg\n",
    "\n",
    "    return s, x, y\n",
    "\n",
    "\n",
    "next_step, xs, ys = next_step_gen()\n",
    "\n",
    "f = go.FigureWidget()\n",
    "\n",
    "f.add_scatter(y=ys, x=xs)\n",
    "f.update_layout(\n",
    "    xaxis=dict(\n",
    "        tickmode='linear',\n",
    "        tick0=0,\n",
    "        dtick=1\n",
    "    )\n",
    ")\n",
    "scatter = f.data[0]\n",
    "\n",
    "button = widgets.Button(description=\"Next ->\")\n",
    "output = widgets.Output()\n",
    "\n",
    "display(button,f, output)\n",
    "\n",
    "def on_button_clicked(b):\n",
    "  with output:\n",
    "    ix, iy, msg = next_step()\n",
    "    (ix, iy) = make_lines_straight(ix, iy)\n",
    "    scatter.update(y=iy, x=ix)\n",
    "    print(msg)\n",
    "\n",
    "button.on_click(on_button_clicked)"
   ]
  },
  {
   "cell_type": "code",
   "execution_count": null,
   "id": "7728d7ff-c464-404a-93de-c78994f7cfca",
   "metadata": {},
   "outputs": [],
   "source": []
  },
  {
   "cell_type": "code",
   "execution_count": null,
   "id": "9c59464d-3ff5-4cc1-aaa3-cc7cbceb3f41",
   "metadata": {},
   "outputs": [],
   "source": []
  },
  {
   "cell_type": "code",
   "execution_count": null,
   "id": "2131fa68-d1eb-42ab-942e-b5da5feeb77e",
   "metadata": {},
   "outputs": [],
   "source": []
  },
  {
   "cell_type": "code",
   "execution_count": null,
   "id": "380026a6-b184-4548-8fe6-2a04103d6503",
   "metadata": {},
   "outputs": [],
   "source": []
  }
 ],
 "metadata": {
  "kernelspec": {
   "display_name": "Python 3 (ipykernel)",
   "language": "python",
   "name": "python3"
  },
  "language_info": {
   "codemirror_mode": {
    "name": "ipython",
    "version": 3
   },
   "file_extension": ".py",
   "mimetype": "text/x-python",
   "name": "python",
   "nbconvert_exporter": "python",
   "pygments_lexer": "ipython3",
   "version": "3.12.3"
  }
 },
 "nbformat": 4,
 "nbformat_minor": 5
}
