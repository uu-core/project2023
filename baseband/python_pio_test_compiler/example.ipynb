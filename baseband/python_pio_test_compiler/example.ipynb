{
 "cells": [
  {
   "cell_type": "code",
   "execution_count": 10,
   "id": "initial_id",
   "metadata": {
    "ExecuteTime": {
     "end_time": "2024-04-26T20:17:42.057614Z",
     "start_time": "2024-04-26T20:17:42.024472Z"
    }
   },
   "outputs": [],
   "source": [
    "from generate_python_script import PioState,EmptyOutBufferException"
   ]
  },
  {
   "cell_type": "code",
   "execution_count": 11,
   "id": "9487ecf243c426a2",
   "metadata": {
    "collapsed": false,
    "ExecuteTime": {
     "end_time": "2024-04-26T20:17:42.058837Z",
     "start_time": "2024-04-26T20:17:42.043716Z"
    }
   },
   "outputs": [],
   "source": [
    "def get_program_text() -> str:\n",
    "    with open(\"test.pio\", \"r\") as file1:\n",
    "        # Reading from a file\n",
    "        return file1.read()\n",
    "program:str = get_program_text()"
   ]
  },
  {
   "cell_type": "code",
   "execution_count": 12,
   "id": "ccc18fd8f285ff8e",
   "metadata": {
    "collapsed": false,
    "ExecuteTime": {
     "end_time": "2024-04-26T20:17:42.075434Z",
     "start_time": "2024-04-26T20:17:42.052911Z"
    }
   },
   "outputs": [],
   "source": [
    "data:int = 0b01101011110000111110100000010110"
   ]
  },
  {
   "cell_type": "code",
   "execution_count": 13,
   "id": "a5a284e09a9102c2",
   "metadata": {
    "collapsed": false,
    "ExecuteTime": {
     "end_time": "2024-04-26T20:17:42.098169Z",
     "start_time": "2024-04-26T20:17:42.071366Z"
    }
   },
   "outputs": [],
   "source": [
    "from typing import  Tuple\n",
    "\n",
    "def get_x_and_y()->Tuple[int, int]:\n",
    "    out_buffer=PioState.create_out_buffer([0,data])\n",
    "    state = PioState.start(program=program, out_buffer=out_buffer)\n",
    "    x = []\n",
    "    y = []\n",
    "    try:\n",
    "        while True:\n",
    "            if state.internal_pin:\n",
    "                y += [10]\n",
    "            else:\n",
    "                y += [0]\n",
    "            x += [state.step]\n",
    "            \n",
    "            state.process_next_step()\n",
    "    except EmptyOutBufferException:\n",
    "        \n",
    "        return x,y\n"
   ]
  },
  {
   "cell_type": "code",
   "execution_count": 14,
   "id": "4bce0542270c57ac",
   "metadata": {
    "collapsed": false,
    "ExecuteTime": {
     "end_time": "2024-04-26T20:17:42.100578Z",
     "start_time": "2024-04-26T20:17:42.090941Z"
    }
   },
   "outputs": [],
   "source": [
    "from typing import  List\n",
    "def make_lines_straight(x:List[int], y:List[int])->Tuple[List[int], List[int]]:\n",
    "    y_new = [x[0]]\n",
    "    x_new = [y[0]]\n",
    "    for yi, yv in enumerate(y[1:]):\n",
    "        yi +=1\n",
    "        if y[yi - 1] != yv:\n",
    "            y_new.append(y[yi - 1])   \n",
    "            x_new.append(x[yi])\n",
    "        y_new.append(yv)   \n",
    "        x_new.append(x[yi])\n",
    "    return x_new,y_new\n",
    "    \n",
    "        "
   ]
  },
  {
   "cell_type": "code",
   "outputs": [],
   "source": [
    "\n",
    "import ipywidgets as widgets\n",
    "import plotly.graph_objects as go\n",
    "\n",
    "\n",
    "\n",
    "(x,y) = get_x_and_y()\n",
    "(x,y) = make_lines_straight(x,y)\n",
    "f = go.FigureWidget()\n",
    "f.add_scatter(y=y, x=x)\n",
    "def update_plot(initial:Tuple[int,int] = (1,1)):\n",
    "    scatter = f.data[0]\n",
    "    scatter.y = y[initial[0]:initial[1]]\n",
    "    scatter.x = x[initial[0]:initial[1]]\n",
    "\n",
    "data_range = widgets.IntRangeSlider(\n",
    "    value=[0, x[-1]],\n",
    "    min=0,\n",
    "    max=x[-1],\n",
    "    step=1,\n",
    "    description='Test:',\n",
    "    disabled=False,\n",
    "    # continuous_update=False,\n",
    "    orientation='horizontal',\n",
    "    readout=True,\n",
    "    readout_format='d',\n",
    "    layout=widgets.Layout(width='100%')\n",
    ")\n",
    "\n",
    "slider = widgets.interactive(update_plot, initial=data_range)\n"
   ],
   "metadata": {
    "collapsed": false,
    "ExecuteTime": {
     "end_time": "2024-04-26T20:17:42.297725Z",
     "start_time": "2024-04-26T20:17:42.119420Z"
    }
   },
   "id": "1394c552cb5a1fc7",
   "execution_count": 15
  },
  {
   "cell_type": "code",
   "execution_count": 16,
   "id": "8c8c45031548e680",
   "metadata": {
    "collapsed": false,
    "ExecuteTime": {
     "start_time": "2024-04-26T20:17:42.444191Z"
    }
   },
   "outputs": [
    {
     "data": {
      "text/plain": "interactive(children=(IntRangeSlider(value=(0, 1067), description='Test:', layout=Layout(width='100%'), max=10…",
      "application/vnd.jupyter.widget-view+json": {
       "version_major": 2,
       "version_minor": 0,
       "model_id": "47ad7b63a98f4df5abd3bfb57d08703b"
      }
     },
     "execution_count": 16,
     "metadata": {},
     "output_type": "execute_result"
    }
   ],
   "source": [
    "slider"
   ]
  },
  {
   "cell_type": "code",
   "execution_count": 17,
   "id": "8334721a311aa9b5",
   "metadata": {
    "collapsed": false,
    "ExecuteTime": {
     "start_time": "2024-04-26T20:17:42.482856Z"
    }
   },
   "outputs": [
    {
     "data": {
      "application/vnd.jupyter.widget-view+json": {
       "version_major": 2,
       "version_minor": 0,
       "model_id": "9df22d729a6f4e3d86c8ccf6ee550624"
      },
      "text/plain": "FigureWidget({\n    'data': [{'type': 'scatter',\n              'uid': '1d97b3a4-fa3c-42a6-9a00-0ba9caa46bf7',\n              'x': [0, 1, 1, ..., 986, 987, 988],\n              'y': [0, 0, 10, ..., 10, 10, 10]}],\n    'layout': {'template': '...'}\n})"
     },
     "execution_count": 17,
     "metadata": {},
     "output_type": "execute_result"
    }
   ],
   "source": [
    "f"
   ]
  }
 ],
 "metadata": {
  "kernelspec": {
   "display_name": "Python 3 (ipykernel)",
   "language": "python",
   "name": "python3"
  },
  "language_info": {
   "codemirror_mode": {
    "name": "ipython",
    "version": 3
   },
   "file_extension": ".py",
   "mimetype": "text/x-python",
   "name": "python",
   "nbconvert_exporter": "python",
   "pygments_lexer": "ipython3",
   "version": "3.12.3"
  }
 },
 "nbformat": 4,
 "nbformat_minor": 5
}
