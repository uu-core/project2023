{
 "cells": [
  {
   "cell_type": "code",
   "execution_count": 43,
   "id": "cc31663b-8882-495a-b001-f775fc0f9a79",
   "metadata": {},
   "outputs": [],
   "source": [
    "from io import StringIO\n",
    "\n",
    "import matplotlib.pyplot as plt\n",
    "import numpy as np\n",
    "import pandas as pd\n",
    "from numpy import NaN\n",
    "from functions_hamming import * # import functions from the .py file\n",
    "\n",
    "from pylab import rcParams\n",
    "rcParams[\"figure.figsize\"] = 16, 4\n",
    "\n",
    "PAYLOADSIZE = 16\n",
    "PAYLOADSIZE_DEC = 12\n",
    "\n",
    "if PAYLOADSIZE % 2 != 0:\n",
    "    print(\"Alarm! the payload size is not even.\")\n",
    "NUM_16RND = (PAYLOADSIZE_DEC-2)//2 # how many 16 bits random number included in each frame\n",
    "MAX_SEQ = 256 # (decimal) maximum seq number defined by the length of the seq, the length of seq is 1B"
   ]
  },
  {
   "attachments": {},
   "cell_type": "markdown",
   "id": "efa45cd1",
   "metadata": {},
   "source": [
    "## Removing \"|\" after packet size"
   ]
  },
  {
   "cell_type": "code",
   "execution_count": 44,
   "id": "c25a6fa0",
   "metadata": {},
   "outputs": [],
   "source": [
    "f = open(\"log_old.txt\", 'r')\n",
    "fn = open(\"log_cleaned.txt\", 'w')\n",
    "fn.seek(0)\n",
    "lines = f.readlines()\n",
    "for line in lines:\n",
    "    if line[18] == '|':\n",
    "        fn.write(line[0:17])\n",
    "        fn.write(line[19:])\n",
    "    else:\n",
    "        fn.write(line)\n",
    "fn.close()\n",
    "f.close()"
   ]
  },
  {
   "attachments": {},
   "cell_type": "markdown",
   "id": "562e3ae8",
   "metadata": {},
   "source": [
    "## Removing unecessary retranmissions"
   ]
  },
  {
   "cell_type": "code",
   "execution_count": 45,
   "id": "07838dd7",
   "metadata": {},
   "outputs": [],
   "source": [
    "f = open(\"log_cleaned.txt\", 'r')\n",
    "fn = open(\"log.txt\", 'w')\n",
    "fn.seek(0)\n",
    "lines = f.readlines()\n",
    "buff_of_new_buff = []\n",
    "new_buff = [str(0)] * 255\n",
    "iteration_ranges = []\n",
    "retransmission_interval = 5\n",
    "prev_start_idx = 0\n",
    "line_num = 0\n",
    "start_idx = len(lines)\n",
    "end_idx = len(lines) # doesnt matter what the init value is\n",
    "\n",
    "def find_idx(num_to_check, start_looking_idx, end_looking_idx):\n",
    "    for i in range(start_looking_idx, end_looking_idx):\n",
    "        if getSeqNum(lines[i]) == num_to_check:\n",
    "            return i\n",
    "\n",
    "    return len(lines)\n",
    "\n",
    "# Find where the seq num is restarting\n",
    "# Bug: if the new iteration starts after the 6 elem\n",
    "# but if that happens we have biger problems\n",
    "while line_num < len(lines):\n",
    "    # Bug: if the first 10 packages are lost, I don't care\n",
    "    # Bug: if 00,01,02,03,04 seq is caused by bit error\n",
    "    for num_to_check in range(retransmission_interval) or range(len(lines)):\n",
    "        start_looking_idx = prev_start_idx+retransmission_interval+1+num_to_check\n",
    "        idx = find_idx(num_to_check, start_looking_idx, len(lines))\n",
    "        if idx < start_idx:\n",
    "            start_idx = idx\n",
    "            end_idx = idx\n",
    "   \n",
    "    # Will append even when there is nothing to append\n",
    "    if start_idx == len(lines): # hasn't changed\n",
    "        iteration_ranges.append([prev_start_idx, len(lines)])\n",
    "        break\n",
    "\n",
    "    # Last will be len(lines)\n",
    "    iteration_ranges.append([prev_start_idx, end_idx])\n",
    "    prev_start_idx = start_idx\n",
    "    start_idx = len(lines) # min start_idx want init to be max\n",
    "    line_num = prev_start_idx\n",
    "\n",
    "# Generate a buffer of non duplicate packages\n",
    "for r in range(len(iteration_ranges)):\n",
    "    for i in range(iteration_ranges[r][1]-1, iteration_ranges[r][0]-1, -1):\n",
    "        new_buff[getSeqNum(lines[i])] = lines[i]\n",
    "    \n",
    "    buff_of_new_buff.append(new_buff)\n",
    "    new_buff = [str(0)] * 255\n",
    "\n",
    "# Clean the buffer from initial zeros\n",
    "for buff in buff_of_new_buff:\n",
    "    for i in range(len(buff)-1,-1,-1):\n",
    "        if buff[i] == str(0):\n",
    "            del buff[i]\n",
    "\n",
    "# Write the buffers to file\n",
    "for buff in buff_of_new_buff:\n",
    "    fn.writelines(buff)\n",
    "\n",
    "fn.close()\n",
    "f.close()"
   ]
  },
  {
   "attachments": {},
   "cell_type": "markdown",
   "id": "ed550d0f-007c-4431-b443-f53bc5731935",
   "metadata": {
    "tags": []
   },
   "source": [
    "## Log file"
   ]
  },
  {
   "attachments": {},
   "cell_type": "markdown",
   "id": "bd46e596-f71c-4148-aca0-d9bab090b1dc",
   "metadata": {},
   "source": [
    "**For a fair comparison between groups, must follow the output format below**\n",
    "<br>$\\color{red}{\\text{timestamp_rx }|\\text{ len [hex] } \\text{ seq [hex] } \\text{ payload [hex] }|\\text{rssi}}$\n",
    "<br>$\\text{ len [hex]}$ = payload length + 1 (seq. field length [1B])\n",
    "<br>$\\text{ payload [hex]}$ should start with the pseudo sequence number [2B], indicates the starting byte's position in the file.\n",
    "***\n",
    "*Example log file output for one frame with reciever timestamp xxxx, frame length, seq number and random payload, received signal strength.*\n",
    "<br>15:17:18.394 |0f 46 bd f8 f7 ea 41 ac 1b be 05 a0 7f d2 09 d4 |  -91 CRC error\n",
    "<br>$\\color{red}{\\text{delimiter for four variables is \"|\" and delimiter for the payload each byte is the space \" \".}}$"
   ]
  },
  {
   "cell_type": "code",
   "execution_count": 46,
   "id": "6b884982-520f-4d73-9e58-1d5114b1c0a2",
   "metadata": {},
   "outputs": [
    {
     "data": {
      "text/html": [
       "<div>\n",
       "<style scoped>\n",
       "    .dataframe tbody tr th:only-of-type {\n",
       "        vertical-align: middle;\n",
       "    }\n",
       "\n",
       "    .dataframe tbody tr th {\n",
       "        vertical-align: top;\n",
       "    }\n",
       "\n",
       "    .dataframe thead th {\n",
       "        text-align: right;\n",
       "    }\n",
       "</style>\n",
       "<table border=\"1\" class=\"dataframe\">\n",
       "  <thead>\n",
       "    <tr style=\"text-align: right;\">\n",
       "      <th></th>\n",
       "      <th>index</th>\n",
       "      <th>time_rx</th>\n",
       "      <th>rssi</th>\n",
       "      <th>seq</th>\n",
       "      <th>payload</th>\n",
       "    </tr>\n",
       "  </thead>\n",
       "  <tbody>\n",
       "    <tr>\n",
       "      <th>0</th>\n",
       "      <td>0</td>\n",
       "      <td>2023-05-18 00:00:05.153</td>\n",
       "      <td>-51</td>\n",
       "      <td>1</td>\n",
       "      <td>00 03 41 e8 1f 89 0d a8 0a ed 05 46 12 c9 ca 4a</td>\n",
       "    </tr>\n",
       "    <tr>\n",
       "      <th>1</th>\n",
       "      <td>1</td>\n",
       "      <td>2023-05-18 00:00:05.544</td>\n",
       "      <td>-51</td>\n",
       "      <td>2</td>\n",
       "      <td>00 05 82 b4 15 89 5d 94 05 09 03 fe 0c 09 a3 9a</td>\n",
       "    </tr>\n",
       "    <tr>\n",
       "      <th>2</th>\n",
       "      <td>2</td>\n",
       "      <td>2023-05-18 00:00:05.283</td>\n",
       "      <td>-51</td>\n",
       "      <td>3</td>\n",
       "      <td>00 06 c3 a2 05 09 74 86 08 e3 83 98 38 85 f8 22</td>\n",
       "    </tr>\n",
       "    <tr>\n",
       "      <th>3</th>\n",
       "      <td>3</td>\n",
       "      <td>2023-05-18 00:00:05.349</td>\n",
       "      <td>-51</td>\n",
       "      <td>4</td>\n",
       "      <td>00 0a 05 5a 13 86 e9 d6 09 e8 87 0e 2f c7 80 96</td>\n",
       "    </tr>\n",
       "    <tr>\n",
       "      <th>4</th>\n",
       "      <td>4</td>\n",
       "      <td>2023-05-18 00:00:05.739</td>\n",
       "      <td>-51</td>\n",
       "      <td>5</td>\n",
       "      <td>00 0c 44 2e 3f 05 f9 32 08 86 62 d0 39 09 bb e2</td>\n",
       "    </tr>\n",
       "    <tr>\n",
       "      <th>5</th>\n",
       "      <td>5</td>\n",
       "      <td>2023-05-18 00:00:05.804</td>\n",
       "      <td>-52</td>\n",
       "      <td>6</td>\n",
       "      <td>00 0f 84 12 15 86 85 7e 07 89 83 6a 01 c7 51 00</td>\n",
       "    </tr>\n",
       "    <tr>\n",
       "      <th>6</th>\n",
       "      <td>6</td>\n",
       "      <td>2023-05-18 00:00:05.870</td>\n",
       "      <td>-52</td>\n",
       "      <td>7</td>\n",
       "      <td>00 11 c5 7e 39 8b 53 88 0a db 63 e6 03 47 47 30</td>\n",
       "    </tr>\n",
       "    <tr>\n",
       "      <th>7</th>\n",
       "      <td>7</td>\n",
       "      <td>2023-05-18 00:00:05.935</td>\n",
       "      <td>-53</td>\n",
       "      <td>8</td>\n",
       "      <td>00 14 05 22 1d 87 22 ec 09 69 65 fa 27 88 b1 86</td>\n",
       "    </tr>\n",
       "    <tr>\n",
       "      <th>8</th>\n",
       "      <td>8</td>\n",
       "      <td>2023-05-18 00:00:06.000</td>\n",
       "      <td>-51</td>\n",
       "      <td>9</td>\n",
       "      <td>00 17 44 34 25 86 d0 82 08 3b 62 62 1b 44 42 12</td>\n",
       "    </tr>\n",
       "    <tr>\n",
       "      <th>9</th>\n",
       "      <td>9</td>\n",
       "      <td>2023-05-18 00:00:06.391</td>\n",
       "      <td>-51</td>\n",
       "      <td>10</td>\n",
       "      <td>00 18 84 36 1e ca 8d 6a 04 7c c2 ee 29 04 5d e8</td>\n",
       "    </tr>\n",
       "  </tbody>\n",
       "</table>\n",
       "</div>"
      ],
      "text/plain": [
       "   index                 time_rx  rssi  seq   \n",
       "0      0 2023-05-18 00:00:05.153   -51    1  \\\n",
       "1      1 2023-05-18 00:00:05.544   -51    2   \n",
       "2      2 2023-05-18 00:00:05.283   -51    3   \n",
       "3      3 2023-05-18 00:00:05.349   -51    4   \n",
       "4      4 2023-05-18 00:00:05.739   -51    5   \n",
       "5      5 2023-05-18 00:00:05.804   -52    6   \n",
       "6      6 2023-05-18 00:00:05.870   -52    7   \n",
       "7      7 2023-05-18 00:00:05.935   -53    8   \n",
       "8      8 2023-05-18 00:00:06.000   -51    9   \n",
       "9      9 2023-05-18 00:00:06.391   -51   10   \n",
       "\n",
       "                                           payload  \n",
       "0  00 03 41 e8 1f 89 0d a8 0a ed 05 46 12 c9 ca 4a  \n",
       "1  00 05 82 b4 15 89 5d 94 05 09 03 fe 0c 09 a3 9a  \n",
       "2  00 06 c3 a2 05 09 74 86 08 e3 83 98 38 85 f8 22  \n",
       "3  00 0a 05 5a 13 86 e9 d6 09 e8 87 0e 2f c7 80 96  \n",
       "4  00 0c 44 2e 3f 05 f9 32 08 86 62 d0 39 09 bb e2  \n",
       "5  00 0f 84 12 15 86 85 7e 07 89 83 6a 01 c7 51 00  \n",
       "6  00 11 c5 7e 39 8b 53 88 0a db 63 e6 03 47 47 30  \n",
       "7  00 14 05 22 1d 87 22 ec 09 69 65 fa 27 88 b1 86  \n",
       "8  00 17 44 34 25 86 d0 82 08 3b 62 62 1b 44 42 12  \n",
       "9  00 18 84 36 1e ca 8d 6a 04 7c c2 ee 29 04 5d e8  "
      ]
     },
     "execution_count": 46,
     "metadata": {},
     "output_type": "execute_result"
    }
   ],
   "source": [
    "# define the file name\n",
    "filename = \"log\"\n",
    "# import file to jupyter notebook\n",
    "df = readfile(\"./\" + filename + \".txt\")\n",
    "# check the imported data first 10 lines\n",
    "df.head(10)"
   ]
  },
  {
   "cell_type": "code",
   "execution_count": 47,
   "id": "7917dcea-d362-4574-8a95-322d64e605d4",
   "metadata": {},
   "outputs": [],
   "source": [
    "# delete the corrupted packets (PAYLOADSIZE + 2B pesudo sequence number)\n",
    "df = df[df.payload.apply(lambda x: len(x)==((PAYLOADSIZE)*3-1))]\n",
    "df.reset_index(inplace=True)"
   ]
  },
  {
   "cell_type": "code",
   "execution_count": 48,
   "id": "7512c8ad-c1a4-4abe-9117-2a910a819cd2",
   "metadata": {},
   "outputs": [],
   "source": [
    "# replace the resettable seq number to unresettable, for the purpose of reliability calculation\n",
    "test = replace_seq(df.copy(), MAX_SEQ=256)\n",
    "test.rename(columns = {'seq':'old_seq', 'new_seq':'seq'}, inplace = True)"
   ]
  },
  {
   "attachments": {},
   "cell_type": "markdown",
   "id": "829bcbef-b2b4-4648-a5b9-4957091d050c",
   "metadata": {
    "tags": []
   },
   "source": [
    "# Time"
   ]
  },
  {
   "attachments": {},
   "cell_type": "markdown",
   "id": "a0f611df-7fa9-46b4-8e8d-df0339225306",
   "metadata": {
    "tags": []
   },
   "source": [
    "## Definition"
   ]
  },
  {
   "attachments": {},
   "cell_type": "markdown",
   "id": "776659f3-1a63-45f8-a931-b6f28589758c",
   "metadata": {},
   "source": [
    "**Evaluation metric**\n",
    "<br>*File Transmission Time: the total latency that certain amount of Data $F$ is delivered to the destination.*\n",
    "<br> $File\\ Delay = Rx\\_timestamp[N] - Rx\\_timestamp[0]$\n",
    "<br> where $N$ is the last packet\n",
    "***\n",
    "**Interesting to look at**:\n",
    "<br>*Timestamp difference*: $\\Delta T[i] = Rx\\_timestamp[i] - Tx\\_timestamp[i]$\n",
    "1. *Worst-case packet delay*: the delay of the packet that takes the longest time to traverse.\n",
    "2. *Packet delay variation*: the std of the packet delay."
   ]
  },
  {
   "cell_type": "code",
   "execution_count": 49,
   "id": "c0b541ad-6178-4af7-b864-6288dedaf1bd",
   "metadata": {
    "tags": []
   },
   "outputs": [
    {
     "name": "stdout",
     "output_type": "stream",
     "text": [
      "The time it takes to transfer the file is : 0 days 00:00:02.542000, which is 2.542 seconds.\n"
     ]
    }
   ],
   "source": [
    "# compute the file delay\n",
    "file_delay = df.time_rx[len(df) - 1] - df.time_rx[0]\n",
    "# convert the timedelta to s\n",
    "file_delay_s = np.timedelta64(file_delay, \"ms\").astype(int) / 1000\n",
    "print(f\"The time it takes to transfer the file is : {file_delay}, which is {file_delay_s} seconds.\")"
   ]
  },
  {
   "attachments": {},
   "cell_type": "markdown",
   "id": "321503b0-e6fd-4505-829f-8df6e39ba7a2",
   "metadata": {
    "tags": []
   },
   "source": [
    "# Reliability"
   ]
  },
  {
   "attachments": {},
   "cell_type": "markdown",
   "id": "74382050-0739-4920-abf0-2eb3cb035814",
   "metadata": {},
   "source": [
    "## Definition"
   ]
  },
  {
   "attachments": {},
   "cell_type": "markdown",
   "id": "4910707b-e484-466e-adbe-09a27495ef93",
   "metadata": {},
   "source": [
    "**Evaluation metric**\n",
    "<br>*Quality of data transfer.*\n",
    "<br>*Bit Reliability*: The ratio of data bits correctly delivered to the data sink.\n",
    "<br>*Bit Error Rate*: The ratio of data bits incorrectly delivered to the data sink.\n",
    "$$Bit\\ Reliability = 1 - BER = 1 - \\frac{Number\\ of\\ wrong\\ bit}{Total\\ Number\\ of\\ bit\\ sent}$$\n",
    "***\n",
    "**Interesting to look at**:\n",
    "1. *Expected number of transmission*: the ratio of the number of packets correctly received by the data sink and the number of packets sent by the source.\n",
    "\n",
    "$$ETX = \\frac{Number\\ of\\ packet\\ received}{Number\\ of\\ packet\\ sent}$$\n",
    "\n",
    "2. *Packet reliability*: the number of packet bit correctly delivered to next hop."
   ]
  },
  {
   "attachments": {},
   "cell_type": "markdown",
   "id": "4a776d52-88ef-430d-9503-e78d3d6db044",
   "metadata": {
    "tags": []
   },
   "source": [
    "## Statistics"
   ]
  },
  {
   "cell_type": "code",
   "execution_count": 50,
   "id": "8f710d6d-f670-4058-90cb-fe1e2373f6e5",
   "metadata": {},
   "outputs": [
    {
     "name": "stdout",
     "output_type": "stream",
     "text": [
      "The total number of packets transmitted by the tag is 21.\n",
      "                                               data\n",
      "0        [19, 93, 31, 67, 27, 69, 37, 111, 33, 254]\n",
      "10      [15, 126, 32, 107, 43, 176, 36, 75, 38, 85]\n",
      "20        [26, 86, 34, 232, 20, 32, 31, 48, 37, 25]\n",
      "30     [26, 20, 35, 168, 35, 140, 25, 226, 23, 194]\n",
      "40        [37, 78, 31, 76, 39, 164, 49, 191, 28, 8]\n",
      "...                                             ...\n",
      "40910  [34, 112, 28, 234, 30, 45, 29, 210, 30, 143]\n",
      "40920    [39, 234, 29, 43, 34, 80, 34, 149, 33, 85]\n",
      "40930    [43, 13, 35, 206, 23, 218, 28, 96, 29, 48]\n",
      "40940    [26, 88, 31, 201, 35, 146, 24, 32, 44, 40]\n",
      "40950  [33, 216, 26, 183, 36, 56, 42, 234, 30, 250]\n",
      "\n",
      "[4096 rows x 1 columns]\n"
     ]
    },
    {
     "ename": "IndexError",
     "evalue": "index 0 is out of bounds for axis 0 with size 0",
     "output_type": "error",
     "traceback": [
      "\u001b[0;31m---------------------------------------------------------------------------\u001b[0m",
      "\u001b[0;31mIndexError\u001b[0m                                Traceback (most recent call last)",
      "Cell \u001b[0;32mIn[50], line 3\u001b[0m\n\u001b[1;32m      1\u001b[0m \u001b[39m# compute the BER for all received packets\u001b[39;00m\n\u001b[1;32m      2\u001b[0m \u001b[39m# return the in total ber for received file, error statistics and correct file content supposed to be transmitted\u001b[39;00m\n\u001b[0;32m----> 3\u001b[0m ber, error, file_content \u001b[39m=\u001b[39m compute_ber(test, PACKET_LEN\u001b[39m=\u001b[39;49mNUM_16RND\u001b[39m*\u001b[39;49m\u001b[39m2\u001b[39;49m, MAX_SEQ\u001b[39m=\u001b[39;49mMAX_SEQ)\n\u001b[1;32m      4\u001b[0m bit_reliability \u001b[39m=\u001b[39m (\u001b[39m1\u001b[39m\u001b[39m-\u001b[39mber)\u001b[39m*\u001b[39m\u001b[39m100\u001b[39m\n\u001b[1;32m      5\u001b[0m \u001b[39mprint\u001b[39m(\u001b[39mf\u001b[39m\u001b[39m\"\u001b[39m\u001b[39mBit reliability [%]: \u001b[39m\u001b[39m{\u001b[39;00mbit_reliability\u001b[39m}\u001b[39;00m\u001b[39m\"\u001b[39m)\n",
      "File \u001b[0;32m~/School/WCNESP/wcnes-project2023/stats/functions_hamming.py:179\u001b[0m, in \u001b[0;36mcompute_ber\u001b[0;34m(df, PACKET_LEN, MAX_SEQ)\u001b[0m\n\u001b[1;32m    176\u001b[0m \u001b[39m# start count the error bits\u001b[39;00m\n\u001b[1;32m    177\u001b[0m \u001b[39mfor\u001b[39;00m idx \u001b[39min\u001b[39;00m \u001b[39mrange\u001b[39m(packets):\n\u001b[1;32m    178\u001b[0m     \u001b[39m# return the matched row index for the specific seq number in log file\u001b[39;00m\n\u001b[0;32m--> 179\u001b[0m     error_idx \u001b[39m=\u001b[39m error\u001b[39m.\u001b[39;49mindex[error\u001b[39m.\u001b[39;49mseq \u001b[39m==\u001b[39;49m df\u001b[39m.\u001b[39;49mseq[idx]][\u001b[39m0\u001b[39;49m]\n\u001b[1;32m    180\u001b[0m     \u001b[39m#parse the payload and return a list, each element is 8-bit data, the first 16-bit data is pseudoseq\u001b[39;00m\n\u001b[1;32m    181\u001b[0m    \n\u001b[1;32m    182\u001b[0m     \u001b[39m#payload = get_data(parse_payload(df.payload[idx]))\u001b[39;00m\n\u001b[1;32m    183\u001b[0m     undecoded_payload \u001b[39m=\u001b[39m parse_payload(df\u001b[39m.\u001b[39mpayload[idx])\n",
      "File \u001b[0;32m~/.local/lib/python3.11/site-packages/pandas/core/indexes/base.py:5174\u001b[0m, in \u001b[0;36mIndex.__getitem__\u001b[0;34m(self, key)\u001b[0m\n\u001b[1;32m   5171\u001b[0m \u001b[39mif\u001b[39;00m is_integer(key) \u001b[39mor\u001b[39;00m is_float(key):\n\u001b[1;32m   5172\u001b[0m     \u001b[39m# GH#44051 exclude bool, which would return a 2d ndarray\u001b[39;00m\n\u001b[1;32m   5173\u001b[0m     key \u001b[39m=\u001b[39m com\u001b[39m.\u001b[39mcast_scalar_indexer(key)\n\u001b[0;32m-> 5174\u001b[0m     \u001b[39mreturn\u001b[39;00m getitem(key)\n\u001b[1;32m   5176\u001b[0m \u001b[39mif\u001b[39;00m \u001b[39misinstance\u001b[39m(key, \u001b[39mslice\u001b[39m):\n\u001b[1;32m   5177\u001b[0m     \u001b[39m# This case is separated from the conditional above to avoid\u001b[39;00m\n\u001b[1;32m   5178\u001b[0m     \u001b[39m# pessimization com.is_bool_indexer and ndim checks.\u001b[39;00m\n\u001b[1;32m   5179\u001b[0m     result \u001b[39m=\u001b[39m getitem(key)\n",
      "\u001b[0;31mIndexError\u001b[0m: index 0 is out of bounds for axis 0 with size 0"
     ]
    }
   ],
   "source": [
    "# compute the BER for all received packets\n",
    "# return the in total ber for received file, error statistics and correct file content supposed to be transmitted\n",
    "ber, error, file_content = compute_ber(test, PACKET_LEN=NUM_16RND*2, MAX_SEQ=MAX_SEQ)\n",
    "bit_reliability = (1-ber)*100\n",
    "print(f\"Bit reliability [%]: {bit_reliability}\")"
   ]
  },
  {
   "cell_type": "code",
   "execution_count": null,
   "id": "c20d8711-4a34-4426-b2e0-9fba4126548a",
   "metadata": {},
   "outputs": [],
   "source": [
    "# payload example for debug purpose\n",
    "# correct sequence for pesudoseq NO. '0000'\n",
    "tmp = file_content.loc[int('0000', base=16), 'data']\n",
    "for i in tmp:\n",
    "    print(\"{:02x}\".format(i), end=\" \")"
   ]
  },
  {
   "cell_type": "code",
   "execution_count": null,
   "id": "b1965491-13eb-4dcc-8f6d-1d0a1fd21ebd",
   "metadata": {},
   "outputs": [],
   "source": [
    "# BER for each packet\n",
    "plt.scatter(error.seq, error.bit_error/(PAYLOADSIZE*8), marker='o', s=6, color='black')\n",
    "plt.grid()\n",
    "plt.ylabel('Bit Error Rate [%]', fontsize=16)\n",
    "plt.xlabel('Seq. Number', fontsize=16)"
   ]
  },
  {
   "attachments": {},
   "cell_type": "markdown",
   "id": "eb9a35d0-bcac-42c5-9268-8cc81b1c9d72",
   "metadata": {
    "tags": []
   },
   "source": [
    "# Distance"
   ]
  },
  {
   "attachments": {},
   "cell_type": "markdown",
   "id": "76f4cce2-7715-4353-8dee-e59f35e5151f",
   "metadata": {},
   "source": [
    "## Definition"
   ]
  },
  {
   "attachments": {},
   "cell_type": "markdown",
   "id": "f42016e6-6023-4fec-ace2-5a7c9d86dc19",
   "metadata": {},
   "source": [
    "**The communication distance of the system.**\n",
    "<br>$D_{1}$: the distance between carrier<->backscatter_tag[m]\n",
    "<br>$D_{2}$: the distance between backscatter_tag<->receiver[m]\n",
    "<br> Distance metric = $D_{1}^2D_{2}^2$\n",
    "<br>"
   ]
  },
  {
   "cell_type": "code",
   "execution_count": null,
   "id": "98d6bb8d-8bc8-4aa6-ab00-c648fc567db9",
   "metadata": {},
   "outputs": [],
   "source": [
    "# record the distance\n",
    "dis_carrier_tag = 0.15\n",
    "dis_tag_rx = 0.04\n",
    "\n",
    "dis_metric = dis_carrier_tag**2*dis_tag_rx**2\n",
    "print(f\"Distance metric is: {dis_metric}\")"
   ]
  },
  {
   "attachments": {},
   "cell_type": "markdown",
   "id": "9ef0d098",
   "metadata": {},
   "source": [
    "# Radarplot"
   ]
  },
  {
   "attachments": {},
   "cell_type": "markdown",
   "id": "fcdc7949",
   "metadata": {},
   "source": [
    "**Please pay attention to the unit**\n",
    "<br> <font color='red'>Time</font>: use second as unit\n",
    "<br> <font color='red'>Reliability</font>: use the percent as unit\n",
    "<br> <font color='red'>Distance</font>: use meter as unit\n",
    "<br>**Metics = [Time(s), Reliability(%), Distance(m)]**\n",
    "<br> <font color='red'>Always keep the reference in your plot.</font>\n",
    "<br> Tips: for ploting, time metric uses $\\frac{1}{Time}*1000$ as the time metric, the higher the value the better the system performance"
   ]
  },
  {
   "cell_type": "code",
   "execution_count": null,
   "id": "30fc02ae",
   "metadata": {},
   "outputs": [],
   "source": [
    "metrics = [file_delay_s, bit_reliability, dis_metric]\n",
    "radar_plot(metrics)"
   ]
  },
  {
   "cell_type": "code",
   "execution_count": null,
   "id": "741ff1cc",
   "metadata": {},
   "outputs": [],
   "source": []
  }
 ],
 "metadata": {
  "interpreter": {
   "hash": "916dbcbb3f70747c44a77c7bcd40155683ae19c65e1c03b4aa3499c5328201f1"
  },
  "kernelspec": {
   "display_name": "Python 3.10.6 64-bit",
   "language": "python",
   "name": "python3"
  },
  "language_info": {
   "codemirror_mode": {
    "name": "ipython",
    "version": 3
   },
   "file_extension": ".py",
   "mimetype": "text/x-python",
   "name": "python",
   "nbconvert_exporter": "python",
   "pygments_lexer": "ipython3",
   "version": "3.11.3"
  },
  "toc-autonumbering": true,
  "vscode": {
   "interpreter": {
    "hash": "aee8b7b246df8f9039afb4144a1f6fd8d2ca17a180786b69acc140d282b71a49"
   }
  }
 },
 "nbformat": 4,
 "nbformat_minor": 5
}
