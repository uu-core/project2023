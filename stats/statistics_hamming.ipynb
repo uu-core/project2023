{
 "cells": [
  {
   "cell_type": "code",
   "execution_count": 5,
   "id": "cc31663b-8882-495a-b001-f775fc0f9a79",
   "metadata": {},
   "outputs": [],
   "source": [
    "from io import StringIO\n",
    "\n",
    "import matplotlib.pyplot as plt\n",
    "import numpy as np\n",
    "import pandas as pd\n",
    "from numpy import NaN\n",
    "from functions_hamming import * # import functions from the .py file\n",
    "\n",
    "from pylab import rcParams\n",
    "rcParams[\"figure.figsize\"] = 16, 4\n",
    "\n",
    "PAYLOADSIZE = 16\n",
    "PAYLOADSIZE_DEC = 12\n",
    "\n",
    "if PAYLOADSIZE % 2 != 0:\n",
    "    print(\"Alarm! the payload size is not even.\")\n",
    "NUM_16RND = (PAYLOADSIZE_DEC-2)//2 # how many 16 bits random number included in each frame\n",
    "MAX_SEQ = 256 # (decimal) maximum seq number defined by the length of the seq, the length of seq is 1B"
   ]
  },
  {
   "attachments": {},
   "cell_type": "markdown",
   "id": "efa45cd1",
   "metadata": {},
   "source": [
    "## Removing \"|\" after packet size"
   ]
  },
  {
   "cell_type": "code",
   "execution_count": 6,
   "id": "c25a6fa0",
   "metadata": {},
   "outputs": [],
   "source": [
    "f = open(\"log_old.txt\", 'r')\n",
    "fn = open(\"log_cleaned.txt\", 'w')\n",
    "fn.seek(0)\n",
    "lines = f.readlines()\n",
    "for line in lines:\n",
    "    if line[18] == '|':\n",
    "        fn.write(line[0:17])\n",
    "        fn.write(line[19:])\n",
    "    else:\n",
    "        fn.write(line)\n",
    "fn.close()\n",
    "f.close()"
   ]
  },
  {
   "attachments": {},
   "cell_type": "markdown",
   "id": "562e3ae8",
   "metadata": {},
   "source": [
    "## Removing unecessary retranmissions"
   ]
  },
  {
   "cell_type": "code",
   "execution_count": 10,
   "id": "771736b9",
   "metadata": {},
   "outputs": [
    {
     "name": "stdout",
     "output_type": "stream",
     "text": [
      "['00:00:05.087 | 11 00 00 00 03 3e 17 47 e8 2e 06 d1 a5 4e 1b c9 3f e2 | -54 CRC error\\n', '00:00:05.153 | 11 01 00 03 41 e8 1f 89 0d a8 0a ed 05 46 12 c9 ca 4a | -51 CRC error\\n', '00:00:05.218 | 11 02 00 05 82 b4 15 89 5d 94 05 09 03 fe 0c 09 a3 9a | -56 CRC error\\n', '00:00:05.283 | 11 03 00 06 c3 a2 05 09 74 86 08 e3 83 98 38 85 f8 22 | -51 CRC error\\n', '00:00:05.349 | 11 04 00 0a 05 5a 13 86 e9 d6 09 e8 87 0e 2f c7 80 96 | -51 CRC error\\n', '00:00:05.739 | 11 05 00 0c 44 2e 3f 05 f9 32 08 86 62 d0 39 09 bb e2 | -51 CRC error\\n', '00:00:05.804 | 11 06 00 0f 84 12 15 86 85 7e 07 89 83 6a 01 c7 51 00 | -52 CRC error\\n', '00:00:05.870 | 11 07 00 11 c5 7e 39 8b 53 88 0a db 63 e6 03 47 47 30 | -52 CRC error\\n', '00:00:05.935 | 11 08 00 14 05 22 1d 87 22 ec 09 69 65 fa 27 88 b1 86 | -53 CRC error\\n', '00:00:06.000 | 11 09 00 17 44 34 25 86 d0 82 08 3b 62 62 1b 44 42 12 | -51 CRC error\\n', '00:00:06.391 | 11 0a 00 18 84 36 1e ca 8d 6a 04 7c c2 ee 29 04 5d e8 | -51 CRC error\\n', '00:00:06.456 | 11 0b 00 1b c5 20 09 8b 2e 3a 0c 63 05 64 0b 46 c1 72 | -51 CRC error\\n', '00:00:06.522 | 11 0c 00 1e 05 14 0b 4a 7f 3e 06 5f a5 02 2a c7 2c a8 | -51 CRC error\\n', '00:00:06.587 | 11 0d 00 21 41 f6 0d 89 7c ac 04 92 45 2c 06 44 9c 7a | -51 CRC error\\n', '00:00:06.652 | 11 0e 00 22 84 9a 20 46 b9 ec 08 13 e5 00 33 4d 2d ac | -50 CRC error\\n', '00:00:07.043 | 11 0f 00 24 c3 da 35 c5 87 44 07 fd 07 0c 2f 0b a8 40 | -51 CRC error\\n', '00:00:07.108 | 11 10 00 28 05 10 29 85 49 26 08 7c 64 10 14 44 21 e6 | -52 CRC error\\n', '00:00:07.174 | 11 11 00 2b 44 5c 29 08 19 0a 08 cd 25 1e 34 85 6e b6 | -50 CRC error\\n', '00:00:07.239 | 11 12 00 2d 82 fa 2e 47 aa f0 08 3b e5 be 25 49 ad 02 | -50 CRC error\\n', '00:00:07.304 | 11 13 00 2e c5 7c 0d c7 f2 a0 0b 1c 25 0e 0b 08 2f ee | -50 CRC error\\n', '00:00:07.695 | 11 14 00 33 03 f2 3d c8 92 32 08 45 e5 ce 26 08 d3 a6 | -50 CRC error\\n']\n"
     ]
    }
   ],
   "source": [
    "f = open(\"log_cleaned.txt\", 'r')\n",
    "fn = open(\"log.txt\", 'w')\n",
    "fn.seek(0)\n",
    "lines = f.readlines()\n",
    "new_buff = [str(0)] * 255\n",
    "\n",
    "for i in range(len(lines)-1, -1, -1):\n",
    "    new_buff[getSeqNum(lines[i])] = lines[i]\n",
    "\n",
    "for i in range(len(new_buff)-1,-1,-1):\n",
    "    if new_buff[i] == str(0):\n",
    "        del new_buff[i]\n",
    "\n",
    "print(new_buff)\n",
    "fn.writelines(new_buff)\n",
    "fn.close()\n",
    "f.close( )"
   ]
  },
  {
   "attachments": {},
   "cell_type": "markdown",
   "id": "ed550d0f-007c-4431-b443-f53bc5731935",
   "metadata": {
    "tags": []
   },
   "source": [
    "## Log file"
   ]
  },
  {
   "attachments": {},
   "cell_type": "markdown",
   "id": "bd46e596-f71c-4148-aca0-d9bab090b1dc",
   "metadata": {},
   "source": [
    "**For a fair comparison between groups, must follow the output format below**\n",
    "<br>$\\color{red}{\\text{timestamp_rx }|\\text{ len [hex] } \\text{ seq [hex] } \\text{ payload [hex] }|\\text{rssi}}$\n",
    "<br>$\\text{ len [hex]}$ = payload length + 1 (seq. field length [1B])\n",
    "<br>$\\text{ payload [hex]}$ should start with the pseudo sequence number [2B], indicates the starting byte's position in the file.\n",
    "***\n",
    "*Example log file output for one frame with reciever timestamp xxxx, frame length, seq number and random payload, received signal strength.*\n",
    "<br>15:17:18.394 |0f 46 bd f8 f7 ea 41 ac 1b be 05 a0 7f d2 09 d4 |  -91 CRC error\n",
    "<br>$\\color{red}{\\text{delimiter for four variables is \"|\" and delimiter for the payload each byte is the space \" \".}}$"
   ]
  },
  {
   "cell_type": "code",
   "execution_count": 11,
   "id": "6b884982-520f-4d73-9e58-1d5114b1c0a2",
   "metadata": {},
   "outputs": [
    {
     "data": {
      "text/html": [
       "<div>\n",
       "<style scoped>\n",
       "    .dataframe tbody tr th:only-of-type {\n",
       "        vertical-align: middle;\n",
       "    }\n",
       "\n",
       "    .dataframe tbody tr th {\n",
       "        vertical-align: top;\n",
       "    }\n",
       "\n",
       "    .dataframe thead th {\n",
       "        text-align: right;\n",
       "    }\n",
       "</style>\n",
       "<table border=\"1\" class=\"dataframe\">\n",
       "  <thead>\n",
       "    <tr style=\"text-align: right;\">\n",
       "      <th></th>\n",
       "      <th>index</th>\n",
       "      <th>time_rx</th>\n",
       "      <th>rssi</th>\n",
       "      <th>seq</th>\n",
       "      <th>payload</th>\n",
       "    </tr>\n",
       "  </thead>\n",
       "  <tbody>\n",
       "    <tr>\n",
       "      <th>0</th>\n",
       "      <td>0</td>\n",
       "      <td>2023-05-17 00:00:05.087</td>\n",
       "      <td>-54</td>\n",
       "      <td>0</td>\n",
       "      <td>00 00 03 3e 17 47 e8 2e 06 d1 a5 4e 1b c9 3f e2</td>\n",
       "    </tr>\n",
       "    <tr>\n",
       "      <th>1</th>\n",
       "      <td>1</td>\n",
       "      <td>2023-05-17 00:00:05.153</td>\n",
       "      <td>-51</td>\n",
       "      <td>1</td>\n",
       "      <td>00 03 41 e8 1f 89 0d a8 0a ed 05 46 12 c9 ca 4a</td>\n",
       "    </tr>\n",
       "    <tr>\n",
       "      <th>2</th>\n",
       "      <td>2</td>\n",
       "      <td>2023-05-17 00:00:05.218</td>\n",
       "      <td>-56</td>\n",
       "      <td>2</td>\n",
       "      <td>00 05 82 b4 15 89 5d 94 05 09 03 fe 0c 09 a3 9a</td>\n",
       "    </tr>\n",
       "    <tr>\n",
       "      <th>3</th>\n",
       "      <td>3</td>\n",
       "      <td>2023-05-17 00:00:05.283</td>\n",
       "      <td>-51</td>\n",
       "      <td>3</td>\n",
       "      <td>00 06 c3 a2 05 09 74 86 08 e3 83 98 38 85 f8 22</td>\n",
       "    </tr>\n",
       "    <tr>\n",
       "      <th>4</th>\n",
       "      <td>4</td>\n",
       "      <td>2023-05-17 00:00:05.349</td>\n",
       "      <td>-51</td>\n",
       "      <td>4</td>\n",
       "      <td>00 0a 05 5a 13 86 e9 d6 09 e8 87 0e 2f c7 80 96</td>\n",
       "    </tr>\n",
       "    <tr>\n",
       "      <th>5</th>\n",
       "      <td>5</td>\n",
       "      <td>2023-05-17 00:00:05.739</td>\n",
       "      <td>-51</td>\n",
       "      <td>5</td>\n",
       "      <td>00 0c 44 2e 3f 05 f9 32 08 86 62 d0 39 09 bb e2</td>\n",
       "    </tr>\n",
       "    <tr>\n",
       "      <th>6</th>\n",
       "      <td>6</td>\n",
       "      <td>2023-05-17 00:00:05.804</td>\n",
       "      <td>-52</td>\n",
       "      <td>6</td>\n",
       "      <td>00 0f 84 12 15 86 85 7e 07 89 83 6a 01 c7 51 00</td>\n",
       "    </tr>\n",
       "    <tr>\n",
       "      <th>7</th>\n",
       "      <td>7</td>\n",
       "      <td>2023-05-17 00:00:05.870</td>\n",
       "      <td>-52</td>\n",
       "      <td>7</td>\n",
       "      <td>00 11 c5 7e 39 8b 53 88 0a db 63 e6 03 47 47 30</td>\n",
       "    </tr>\n",
       "    <tr>\n",
       "      <th>8</th>\n",
       "      <td>8</td>\n",
       "      <td>2023-05-17 00:00:05.935</td>\n",
       "      <td>-53</td>\n",
       "      <td>8</td>\n",
       "      <td>00 14 05 22 1d 87 22 ec 09 69 65 fa 27 88 b1 86</td>\n",
       "    </tr>\n",
       "    <tr>\n",
       "      <th>9</th>\n",
       "      <td>9</td>\n",
       "      <td>2023-05-17 00:00:06.000</td>\n",
       "      <td>-51</td>\n",
       "      <td>9</td>\n",
       "      <td>00 17 44 34 25 86 d0 82 08 3b 62 62 1b 44 42 12</td>\n",
       "    </tr>\n",
       "  </tbody>\n",
       "</table>\n",
       "</div>"
      ],
      "text/plain": [
       "   index                 time_rx  rssi  seq   \n",
       "0      0 2023-05-17 00:00:05.087   -54    0  \\\n",
       "1      1 2023-05-17 00:00:05.153   -51    1   \n",
       "2      2 2023-05-17 00:00:05.218   -56    2   \n",
       "3      3 2023-05-17 00:00:05.283   -51    3   \n",
       "4      4 2023-05-17 00:00:05.349   -51    4   \n",
       "5      5 2023-05-17 00:00:05.739   -51    5   \n",
       "6      6 2023-05-17 00:00:05.804   -52    6   \n",
       "7      7 2023-05-17 00:00:05.870   -52    7   \n",
       "8      8 2023-05-17 00:00:05.935   -53    8   \n",
       "9      9 2023-05-17 00:00:06.000   -51    9   \n",
       "\n",
       "                                           payload  \n",
       "0  00 00 03 3e 17 47 e8 2e 06 d1 a5 4e 1b c9 3f e2  \n",
       "1  00 03 41 e8 1f 89 0d a8 0a ed 05 46 12 c9 ca 4a  \n",
       "2  00 05 82 b4 15 89 5d 94 05 09 03 fe 0c 09 a3 9a  \n",
       "3  00 06 c3 a2 05 09 74 86 08 e3 83 98 38 85 f8 22  \n",
       "4  00 0a 05 5a 13 86 e9 d6 09 e8 87 0e 2f c7 80 96  \n",
       "5  00 0c 44 2e 3f 05 f9 32 08 86 62 d0 39 09 bb e2  \n",
       "6  00 0f 84 12 15 86 85 7e 07 89 83 6a 01 c7 51 00  \n",
       "7  00 11 c5 7e 39 8b 53 88 0a db 63 e6 03 47 47 30  \n",
       "8  00 14 05 22 1d 87 22 ec 09 69 65 fa 27 88 b1 86  \n",
       "9  00 17 44 34 25 86 d0 82 08 3b 62 62 1b 44 42 12  "
      ]
     },
     "execution_count": 11,
     "metadata": {},
     "output_type": "execute_result"
    }
   ],
   "source": [
    "# define the file name\n",
    "filename = \"log\"\n",
    "# import file to jupyter notebook\n",
    "df = readfile(\"./\" + filename + \".txt\")\n",
    "# check the imported data first 10 lines\n",
    "df.head(10)"
   ]
  },
  {
   "cell_type": "code",
   "execution_count": 12,
   "id": "7917dcea-d362-4574-8a95-322d64e605d4",
   "metadata": {},
   "outputs": [],
   "source": [
    "# delete the corrupted packets (PAYLOADSIZE + 2B pesudo sequence number)\n",
    "df = df[df.payload.apply(lambda x: len(x)==((PAYLOADSIZE)*3-1))]\n",
    "df.reset_index(inplace=True)"
   ]
  },
  {
   "cell_type": "code",
   "execution_count": 13,
   "id": "7512c8ad-c1a4-4abe-9117-2a910a819cd2",
   "metadata": {},
   "outputs": [],
   "source": [
    "# replace the resettable seq number to unresettable, for the purpose of reliability calculation\n",
    "test = replace_seq(df.copy(), MAX_SEQ=256)\n",
    "test.rename(columns = {'seq':'old_seq', 'new_seq':'seq'}, inplace = True)"
   ]
  },
  {
   "attachments": {},
   "cell_type": "markdown",
   "id": "829bcbef-b2b4-4648-a5b9-4957091d050c",
   "metadata": {
    "tags": []
   },
   "source": [
    "# Time"
   ]
  },
  {
   "attachments": {},
   "cell_type": "markdown",
   "id": "a0f611df-7fa9-46b4-8e8d-df0339225306",
   "metadata": {
    "tags": []
   },
   "source": [
    "## Definition"
   ]
  },
  {
   "attachments": {},
   "cell_type": "markdown",
   "id": "776659f3-1a63-45f8-a931-b6f28589758c",
   "metadata": {},
   "source": [
    "**Evaluation metric**\n",
    "<br>*File Transmission Time: the total latency that certain amount of Data $F$ is delivered to the destination.*\n",
    "<br> $File\\ Delay = Rx\\_timestamp[N] - Rx\\_timestamp[0]$\n",
    "<br> where $N$ is the last packet\n",
    "***\n",
    "**Interesting to look at**:\n",
    "<br>*Timestamp difference*: $\\Delta T[i] = Rx\\_timestamp[i] - Tx\\_timestamp[i]$\n",
    "1. *Worst-case packet delay*: the delay of the packet that takes the longest time to traverse.\n",
    "2. *Packet delay variation*: the std of the packet delay."
   ]
  },
  {
   "cell_type": "code",
   "execution_count": 14,
   "id": "c0b541ad-6178-4af7-b864-6288dedaf1bd",
   "metadata": {
    "tags": []
   },
   "outputs": [
    {
     "name": "stdout",
     "output_type": "stream",
     "text": [
      "The time it takes to transfer the file is : 0 days 00:00:02.608000, which is 2.608 seconds.\n"
     ]
    }
   ],
   "source": [
    "# compute the file delay\n",
    "file_delay = df.time_rx[len(df) - 1] - df.time_rx[0]\n",
    "# convert the timedelta to s\n",
    "file_delay_s = np.timedelta64(file_delay, \"ms\").astype(int) / 1000\n",
    "print(f\"The time it takes to transfer the file is : {file_delay}, which is {file_delay_s} seconds.\")"
   ]
  },
  {
   "attachments": {},
   "cell_type": "markdown",
   "id": "321503b0-e6fd-4505-829f-8df6e39ba7a2",
   "metadata": {
    "tags": []
   },
   "source": [
    "# Reliability"
   ]
  },
  {
   "attachments": {},
   "cell_type": "markdown",
   "id": "74382050-0739-4920-abf0-2eb3cb035814",
   "metadata": {},
   "source": [
    "## Definition"
   ]
  },
  {
   "attachments": {},
   "cell_type": "markdown",
   "id": "4910707b-e484-466e-adbe-09a27495ef93",
   "metadata": {},
   "source": [
    "**Evaluation metric**\n",
    "<br>*Quality of data transfer.*\n",
    "<br>*Bit Reliability*: The ratio of data bits correctly delivered to the data sink.\n",
    "<br>*Bit Error Rate*: The ratio of data bits incorrectly delivered to the data sink.\n",
    "$$Bit\\ Reliability = 1 - BER = 1 - \\frac{Number\\ of\\ wrong\\ bit}{Total\\ Number\\ of\\ bit\\ sent}$$\n",
    "***\n",
    "**Interesting to look at**:\n",
    "1. *Expected number of transmission*: the ratio of the number of packets correctly received by the data sink and the number of packets sent by the source.\n",
    "\n",
    "$$ETX = \\frac{Number\\ of\\ packet\\ received}{Number\\ of\\ packet\\ sent}$$\n",
    "\n",
    "2. *Packet reliability*: the number of packet bit correctly delivered to next hop."
   ]
  },
  {
   "attachments": {},
   "cell_type": "markdown",
   "id": "4a776d52-88ef-430d-9503-e78d3d6db044",
   "metadata": {
    "tags": []
   },
   "source": [
    "## Statistics"
   ]
  },
  {
   "cell_type": "code",
   "execution_count": 15,
   "id": "8f710d6d-f670-4058-90cb-fe1e2373f6e5",
   "metadata": {},
   "outputs": [
    {
     "name": "stdout",
     "output_type": "stream",
     "text": [
      "The total number of packets transmitted by the tag is 21.\n",
      "                                               data\n",
      "0        [19, 93, 31, 67, 27, 69, 37, 111, 33, 254]\n",
      "10      [15, 126, 32, 107, 43, 176, 36, 75, 38, 85]\n",
      "20        [26, 86, 34, 232, 20, 32, 31, 48, 37, 25]\n",
      "30     [26, 20, 35, 168, 35, 140, 25, 226, 23, 194]\n",
      "40        [37, 78, 31, 76, 39, 164, 49, 191, 28, 8]\n",
      "...                                             ...\n",
      "40910  [34, 112, 28, 234, 30, 45, 29, 210, 30, 143]\n",
      "40920    [39, 234, 29, 43, 34, 80, 34, 149, 33, 85]\n",
      "40930    [43, 13, 35, 206, 23, 218, 28, 96, 29, 48]\n",
      "40940    [26, 88, 31, 201, 35, 146, 24, 32, 44, 40]\n",
      "40950  [33, 216, 26, 183, 36, 56, 42, 234, 30, 250]\n",
      "\n",
      "[4096 rows x 1 columns]\n",
      "Error statistics dataframe is:\n",
      "    seq bit_error_tmp  bit_error\n",
      "0     0           [0]          0\n",
      "1     1           [0]          0\n",
      "2     2           [0]          0\n",
      "3     3           [0]          0\n",
      "4     4           [0]          0\n",
      "5     5           [0]          0\n",
      "6     6           [0]          0\n",
      "7     7           [0]          0\n",
      "8     8           [0]          0\n",
      "9     9           [0]          0\n",
      "10   10           [0]          0\n",
      "11   11           [0]          0\n",
      "12   12           [0]          0\n",
      "13   13           [0]          0\n",
      "14   14           [0]          0\n",
      "15   15           [0]          0\n",
      "16   16           [0]          0\n",
      "17   17           [0]          0\n",
      "18   18           [0]          0\n",
      "19   19           [0]          0\n",
      "20   20           [0]          0\n",
      "Bit reliability [%]: 100.0\n"
     ]
    }
   ],
   "source": [
    "# compute the BER for all received packets\n",
    "# return the in total ber for received file, error statistics and correct file content supposed to be transmitted\n",
    "ber, error, file_content = compute_ber(test, PACKET_LEN=NUM_16RND*2, MAX_SEQ=MAX_SEQ)\n",
    "bit_reliability = (1-ber)*100\n",
    "print(f\"Bit reliability [%]: {bit_reliability}\")"
   ]
  },
  {
   "cell_type": "code",
   "execution_count": null,
   "id": "c20d8711-4a34-4426-b2e0-9fba4126548a",
   "metadata": {},
   "outputs": [],
   "source": [
    "# payload example for debug purpose\n",
    "# correct sequence for pesudoseq NO. '0000'\n",
    "tmp = file_content.loc[int('0000', base=16), 'data']\n",
    "for i in tmp:\n",
    "    print(\"{:02x}\".format(i), end=\" \")"
   ]
  },
  {
   "cell_type": "code",
   "execution_count": null,
   "id": "b1965491-13eb-4dcc-8f6d-1d0a1fd21ebd",
   "metadata": {},
   "outputs": [],
   "source": [
    "# BER for each packet\n",
    "plt.scatter(error.seq, error.bit_error/(PAYLOADSIZE*8), marker='o', s=6, color='black')\n",
    "plt.grid()\n",
    "plt.ylabel('Bit Error Rate [%]', fontsize=16)\n",
    "plt.xlabel('Seq. Number', fontsize=16)"
   ]
  },
  {
   "attachments": {},
   "cell_type": "markdown",
   "id": "eb9a35d0-bcac-42c5-9268-8cc81b1c9d72",
   "metadata": {
    "tags": []
   },
   "source": [
    "# Distance"
   ]
  },
  {
   "attachments": {},
   "cell_type": "markdown",
   "id": "76f4cce2-7715-4353-8dee-e59f35e5151f",
   "metadata": {},
   "source": [
    "## Definition"
   ]
  },
  {
   "attachments": {},
   "cell_type": "markdown",
   "id": "f42016e6-6023-4fec-ace2-5a7c9d86dc19",
   "metadata": {},
   "source": [
    "**The communication distance of the system.**\n",
    "<br>$D_{1}$: the distance between carrier<->backscatter_tag[m]\n",
    "<br>$D_{2}$: the distance between backscatter_tag<->receiver[m]\n",
    "<br> Distance metric = $D_{1}^2D_{2}^2$\n",
    "<br>"
   ]
  },
  {
   "cell_type": "code",
   "execution_count": null,
   "id": "98d6bb8d-8bc8-4aa6-ab00-c648fc567db9",
   "metadata": {},
   "outputs": [],
   "source": [
    "# record the distance\n",
    "dis_carrier_tag = 0.15\n",
    "dis_tag_rx = 0.04\n",
    "\n",
    "dis_metric = dis_carrier_tag**2*dis_tag_rx**2\n",
    "print(f\"Distance metric is: {dis_metric}\")"
   ]
  },
  {
   "attachments": {},
   "cell_type": "markdown",
   "id": "9ef0d098",
   "metadata": {},
   "source": [
    "# Radarplot"
   ]
  },
  {
   "attachments": {},
   "cell_type": "markdown",
   "id": "fcdc7949",
   "metadata": {},
   "source": [
    "**Please pay attention to the unit**\n",
    "<br> <font color='red'>Time</font>: use second as unit\n",
    "<br> <font color='red'>Reliability</font>: use the percent as unit\n",
    "<br> <font color='red'>Distance</font>: use meter as unit\n",
    "<br>**Metics = [Time(s), Reliability(%), Distance(m)]**\n",
    "<br> <font color='red'>Always keep the reference in your plot.</font>\n",
    "<br> Tips: for ploting, time metric uses $\\frac{1}{Time}*1000$ as the time metric, the higher the value the better the system performance"
   ]
  },
  {
   "cell_type": "code",
   "execution_count": null,
   "id": "30fc02ae",
   "metadata": {},
   "outputs": [],
   "source": [
    "metrics = [file_delay_s, bit_reliability, dis_metric]\n",
    "radar_plot(metrics)"
   ]
  },
  {
   "cell_type": "code",
   "execution_count": null,
   "id": "741ff1cc",
   "metadata": {},
   "outputs": [],
   "source": []
  }
 ],
 "metadata": {
  "interpreter": {
   "hash": "916dbcbb3f70747c44a77c7bcd40155683ae19c65e1c03b4aa3499c5328201f1"
  },
  "kernelspec": {
   "display_name": "Python 3.10.6 64-bit",
   "language": "python",
   "name": "python3"
  },
  "language_info": {
   "codemirror_mode": {
    "name": "ipython",
    "version": 3
   },
   "file_extension": ".py",
   "mimetype": "text/x-python",
   "name": "python",
   "nbconvert_exporter": "python",
   "pygments_lexer": "ipython3",
   "version": "3.10.6"
  },
  "toc-autonumbering": true,
  "vscode": {
   "interpreter": {
    "hash": "aee8b7b246df8f9039afb4144a1f6fd8d2ca17a180786b69acc140d282b71a49"
   }
  }
 },
 "nbformat": 4,
 "nbformat_minor": 5
}
