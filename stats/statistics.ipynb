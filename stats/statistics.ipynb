{
 "cells": [
  {
   "cell_type": "code",
   "execution_count": null,
   "id": "cc31663b-8882-495a-b001-f775fc0f9a79",
   "metadata": {},
   "outputs": [],
   "source": [
    "from io import StringIO\n",
    "\n",
    "import matplotlib.pyplot as plt\n",
    "import numpy as np\n",
    "import pandas as pd\n",
    "from numpy import NaN\n",
    "from functions import * # import functions from the .py file\n",
    "\n",
    "from pylab import rcParams\n",
    "rcParams[\"figure.figsize\"] = 16, 4\n",
    "\n",
    "PAYLOADSIZE = 12\n",
    "\n",
    "if PAYLOADSIZE % 2 != 0:\n",
    "    print(\"Alarm! the payload size is not even.\")\n",
    "NUM_16RND = (PAYLOADSIZE-2)//2 # how many 16 bits random number included in each frame\n",
    "MAX_SEQ = 256 # (decimal) maximum seq number defined by the length of the seq, the length of seq is 1B"
   ]
  },
  {
   "cell_type": "code",
   "execution_count": null,
   "id": "43da5e44",
   "metadata": {},
   "outputs": [],
   "source": [
    "f = open(\"log_old.txt\", 'r')\n",
    "fn = open(\"log.txt\", 'w')\n",
    "fn.seek(0)\n",
    "lines = f.readlines()\n",
    "for line in lines:\n",
    "    if line[18] == '|':\n",
    "        fn.write(line[0:17])\n",
    "        fn.write(line[19:58])\n",
    "        fn.write(line[70:])\n",
    "    else:\n",
    "        fn.write(line)\n",
    "fn.close()\n",
    "f.close()"
   ]
  },
  {
   "cell_type": "markdown",
   "id": "ed550d0f-007c-4431-b443-f53bc5731935",
   "metadata": {
    "tags": []
   },
   "source": [
    "## Log file"
   ]
  },
  {
   "cell_type": "markdown",
   "id": "bd46e596-f71c-4148-aca0-d9bab090b1dc",
   "metadata": {},
   "source": [
    "**For a fair comparison between groups, must follow the output format below**\n",
    "<br>$\\color{red}{\\text{timestamp_rx }|\\text{ len [hex] } \\text{ seq [hex] } \\text{ payload [hex] }|\\text{rssi}}$\n",
    "<br>$\\text{ len [hex]}$ = payload length + 1 (seq. field length [1B])\n",
    "<br>$\\text{ payload [hex]}$ should start with the pseudo sequence number [2B], indicates the starting byte's position in the file.\n",
    "***\n",
    "*Example log file output for one frame with reciever timestamp xxxx, frame length, seq number and random payload, received signal strength.*\n",
    "<br>15:17:18.394 |0f 46 bd f8 f7 ea 41 ac 1b be 05 a0 7f d2 09 d4 |  -91 CRC error\n",
    "<br>$\\color{red}{\\text{delimiter for four variables is \"|\" and delimiter for the payload each byte is the space \" \".}}$"
   ]
  },
  {
   "cell_type": "code",
   "execution_count": null,
   "id": "6b884982-520f-4d73-9e58-1d5114b1c0a2",
   "metadata": {},
   "outputs": [],
   "source": [
    "# define the file name\n",
    "filename = \"log\"\n",
    "# import file to jupyter notebook\n",
    "df = readfile(\"./\" + filename + \".txt\")\n",
    "# check the imported data first 10 lines\n",
    "df.head(10)"
   ]
  },
  {
   "cell_type": "code",
   "execution_count": null,
   "id": "7917dcea-d362-4574-8a95-322d64e605d4",
   "metadata": {},
   "outputs": [],
   "source": [
    "# delete the corrupted packets (PAYLOADSIZE + 2B pesudo sequence number)\n",
    "df = df[df.payload.apply(lambda x: len(x)==((PAYLOADSIZE)*3-1))]\n",
    "df.reset_index(inplace=True)\n",
    "fn = open(\"df.txt\", 'w')\n",
    "fn.write(df.to_string())\n",
    "fn.close()"
   ]
  },
  {
   "cell_type": "code",
   "execution_count": null,
   "id": "7512c8ad-c1a4-4abe-9117-2a910a819cd2",
   "metadata": {},
   "outputs": [],
   "source": [
    "# replace the resettable seq number to unresettable, for the purpose of reliability calculation\n",
    "test = replace_seq(df.copy(), MAX_SEQ=256)\n",
    "test.rename(columns = {'seq':'old_seq', 'new_seq':'seq'}, inplace = True)"
   ]
  },
  {
   "cell_type": "markdown",
   "id": "829bcbef-b2b4-4648-a5b9-4957091d050c",
   "metadata": {
    "tags": []
   },
   "source": [
    "# Time"
   ]
  },
  {
   "cell_type": "markdown",
   "id": "a0f611df-7fa9-46b4-8e8d-df0339225306",
   "metadata": {
    "tags": []
   },
   "source": [
    "## Definition"
   ]
  },
  {
   "cell_type": "markdown",
   "id": "776659f3-1a63-45f8-a931-b6f28589758c",
   "metadata": {},
   "source": [
    "**Evaluation metric**\n",
    "<br>*File Transmission Time: the total latency that certain amount of Data $F$ is delivered to the destination.*\n",
    "<br> $File\\ Delay = Rx\\_timestamp[N] - Rx\\_timestamp[0]$\n",
    "<br> where $N$ is the last packet\n",
    "***\n",
    "**Interesting to look at**:\n",
    "<br>*Timestamp difference*: $\\Delta T[i] = Rx\\_timestamp[i] - Tx\\_timestamp[i]$\n",
    "1. *Worst-case packet delay*: the delay of the packet that takes the longest time to traverse.\n",
    "2. *Packet delay variation*: the std of the packet delay."
   ]
  },
  {
   "cell_type": "code",
   "execution_count": null,
   "id": "c0b541ad-6178-4af7-b864-6288dedaf1bd",
   "metadata": {
    "tags": []
   },
   "outputs": [],
   "source": [
    "# compute the file delay\n",
    "file_delay = df.time_rx[len(df) - 1] - df.time_rx[0]\n",
    "# convert the timedelta to s\n",
    "file_delay_s = np.timedelta64(file_delay, \"ms\").astype(int) / 1000\n",
    "print(f\"The time it takes to transfer the file is : {file_delay}, which is {file_delay_s} seconds.\")"
   ]
  },
  {
   "cell_type": "markdown",
   "id": "321503b0-e6fd-4505-829f-8df6e39ba7a2",
   "metadata": {
    "tags": []
   },
   "source": [
    "# Reliability"
   ]
  },
  {
   "cell_type": "markdown",
   "id": "74382050-0739-4920-abf0-2eb3cb035814",
   "metadata": {},
   "source": [
    "## Definition"
   ]
  },
  {
   "cell_type": "markdown",
   "id": "4910707b-e484-466e-adbe-09a27495ef93",
   "metadata": {},
   "source": [
    "**Evaluation metric**\n",
    "<br>*Quality of data transfer.*\n",
    "<br>*Bit Reliability*: The ratio of data bits correctly delivered to the data sink.\n",
    "<br>*Bit Error Rate*: The ratio of data bits incorrectly delivered to the data sink.\n",
    "$$Bit\\ Reliability = 1 - BER = 1 - \\frac{Number\\ of\\ wrong\\ bit}{Total\\ Number\\ of\\ bit\\ sent}$$\n",
    "***\n",
    "**Interesting to look at**:\n",
    "1. *Expected number of transmission*: the ratio of the number of packets correctly received by the data sink and the number of packets sent by the source.\n",
    "\n",
    "$$ETX = \\frac{Number\\ of\\ packet\\ received}{Number\\ of\\ packet\\ sent}$$\n",
    "\n",
    "2. *Packet reliability*: the number of packet bit correctly delivered to next hop."
   ]
  },
  {
   "cell_type": "markdown",
   "id": "4a776d52-88ef-430d-9503-e78d3d6db044",
   "metadata": {
    "tags": []
   },
   "source": [
    "## Statistics"
   ]
  },
  {
   "cell_type": "code",
   "execution_count": null,
   "id": "8f710d6d-f670-4058-90cb-fe1e2373f6e5",
   "metadata": {},
   "outputs": [],
   "source": [
    "# compute the BER for all received packets\n",
    "# return the in total ber for received file, error statistics and correct file content supposed to be transmitted\n",
    "ber, error, file_content = compute_ber(test, PACKET_LEN=NUM_16RND*2, MAX_SEQ=MAX_SEQ)\n",
    "bit_reliability = (1-ber)*100\n",
    "print(f\"Bit reliability [%]: {bit_reliability}\")"
   ]
  },
  {
   "cell_type": "code",
   "execution_count": null,
   "id": "c20d8711-4a34-4426-b2e0-9fba4126548a",
   "metadata": {},
   "outputs": [],
   "source": [
    "# payload example for debug purpose\n",
    "# correct sequence for pesudoseq NO. '0000'\n",
    "tmp = file_content.loc[int('0000', base=16), 'data']\n",
    "for i in tmp:\n",
    "    print(\"{:02x}\".format(i), end=\" \")"
   ]
  },
  {
   "cell_type": "code",
   "execution_count": null,
   "id": "b1965491-13eb-4dcc-8f6d-1d0a1fd21ebd",
   "metadata": {},
   "outputs": [],
   "source": [
    "# BER for each packet\n",
    "plt.scatter(error.seq, error.bit_error/(PAYLOADSIZE*8), marker='o', s=6, color='black')\n",
    "plt.grid()\n",
    "plt.ylabel('Bit Error Rate [%]', fontsize=16)\n",
    "plt.xlabel('Seq. Number', fontsize=16)"
   ]
  },
  {
   "cell_type": "markdown",
   "id": "eb9a35d0-bcac-42c5-9268-8cc81b1c9d72",
   "metadata": {
    "tags": []
   },
   "source": [
    "# Distance"
   ]
  },
  {
   "cell_type": "markdown",
   "id": "76f4cce2-7715-4353-8dee-e59f35e5151f",
   "metadata": {},
   "source": [
    "## Definition"
   ]
  },
  {
   "cell_type": "markdown",
   "id": "f42016e6-6023-4fec-ace2-5a7c9d86dc19",
   "metadata": {},
   "source": [
    "**The communication distance of the system.**\n",
    "<br>$D_{1}$: the distance between carrier<->backscatter_tag[m]\n",
    "<br>$D_{2}$: the distance between backscatter_tag<->receiver[m]\n",
    "<br> Distance metric = $D_{1}^2D_{2}^2$\n",
    "<br>"
   ]
  },
  {
   "cell_type": "code",
   "execution_count": null,
   "id": "98d6bb8d-8bc8-4aa6-ab00-c648fc567db9",
   "metadata": {},
   "outputs": [],
   "source": [
    "# record the distance\n",
    "dis_carrier_tag = 0.15\n",
    "dis_tag_rx = 0.04\n",
    "\n",
    "dis_metric = dis_carrier_tag**2*dis_tag_rx**2\n",
    "print(f\"Distance metric is: {dis_metric}\")"
   ]
  },
  {
   "cell_type": "markdown",
   "id": "9ef0d098",
   "metadata": {},
   "source": [
    "# Radarplot"
   ]
  },
  {
   "cell_type": "markdown",
   "id": "fcdc7949",
   "metadata": {},
   "source": [
    "**Please pay attention to the unit**\n",
    "<br> <font color='red'>Time</font>: use second as unit\n",
    "<br> <font color='red'>Reliability</font>: use the percent as unit\n",
    "<br> <font color='red'>Distance</font>: use meter as unit\n",
    "<br>**Metics = [Time(s), Reliability(%), Distance(m)]**\n",
    "<br> <font color='red'>Always keep the reference in your plot.</font>\n",
    "<br> Tips: for ploting, time metric uses $\\frac{1}{Time}*1000$ as the time metric, the higher the value the better the system performance"
   ]
  },
  {
   "cell_type": "code",
   "execution_count": null,
   "id": "30fc02ae",
   "metadata": {},
   "outputs": [],
   "source": [
    "metrics = [file_delay_s, bit_reliability, dis_metric]\n",
    "radar_plot(metrics)"
   ]
  }
 ],
 "metadata": {
  "interpreter": {
   "hash": "916dbcbb3f70747c44a77c7bcd40155683ae19c65e1c03b4aa3499c5328201f1"
  },
  "kernelspec": {
   "display_name": "Python 3.10.6 64-bit",
   "language": "python",
   "name": "python3"
  },
  "language_info": {
   "codemirror_mode": {
    "name": "ipython",
    "version": 3
   },
   "file_extension": ".py",
   "mimetype": "text/x-python",
   "name": "python",
   "nbconvert_exporter": "python",
   "pygments_lexer": "ipython3",
   "version": "3.10.6"
  },
  "toc-autonumbering": true,
  "vscode": {
   "interpreter": {
    "hash": "aee8b7b246df8f9039afb4144a1f6fd8d2ca17a180786b69acc140d282b71a49"
   }
  }
 },
 "nbformat": 4,
 "nbformat_minor": 5
}
