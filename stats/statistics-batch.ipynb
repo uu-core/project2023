{
 "cells": [
  {
   "cell_type": "code",
   "execution_count": null,
   "id": "cc31663b-8882-495a-b001-f775fc0f9a79",
   "metadata": {},
   "outputs": [],
   "source": [
    "from io import StringIO\n",
    "\n",
    "import matplotlib.pyplot as plt\n",
    "import numpy as np\n",
    "import pandas as pd\n",
    "from numpy import NaN\n",
    "from functions import * # import functions from the .py file\n",
    "\n",
    "from pylab import rcParams\n",
    "rcParams[\"figure.figsize\"] = 16, 4\n",
    "\n",
    "PAYLOADSIZE = 14\n",
    "\n",
    "if PAYLOADSIZE % 2 != 0:\n",
    "    print(\"Alarm! the payload size is not even.\")\n",
    "NUM_16RND = (PAYLOADSIZE-2)//2 # how many 16 bits random number included in each frame\n",
    "MAX_SEQ = 256 # (decimal) maximum seq number defined by the length of the seq, the length of seq is 1B"
   ]
  },
  {
   "cell_type": "markdown",
   "id": "ed550d0f-007c-4431-b443-f53bc5731935",
   "metadata": {
    "tags": []
   },
   "source": [
    "## Log file"
   ]
  },
  {
   "cell_type": "markdown",
   "id": "bd46e596-f71c-4148-aca0-d9bab090b1dc",
   "metadata": {},
   "source": [
    "**For a fair comparison between groups, must follow the output format below**\n",
    "<br>$\\color{red}{\\text{timestamp_rx }|\\text{ len [hex] } \\text{ seq [hex] } \\text{ payload [hex] }|\\text{rssi}}$\n",
    "<br>$\\text{ len [hex]}$ = payload length + 1 (seq. field length [1B])\n",
    "<br>$\\text{ payload [hex]}$ should start with the pseudo sequence number [2B], indicates the starting byte's position in the file.\n",
    "***\n",
    "*Example experiment file output for one frame with reciever timestamp xxxx, frame length, seq number and random payload, received signal strength.*\n",
    "<br>15:17:18.394 |0f 46 bd f8 f7 ea 41 ac 1b be 05 a0 7f d2 09 d4 |  -91 CRC error\n",
    "<br>$\\color{red}{\\text{delimiter for four variables is \"|\" and delimiter for the payload each byte is the space \" \".}}$"
   ]
  },
  {
   "cell_type": "code",
   "execution_count": null,
   "id": "6b884982-520f-4d73-9e58-1d5114b1c0a2",
   "metadata": {},
   "outputs": [],
   "source": [
    "import glob\n",
    "\n",
    "clock = 125\n",
    "experiments = pd.DataFrame()\n",
    "experiments_df = dict()\n",
    "logdir = \"./log/\"\n",
    "for path in glob.glob(f\"{logdir}*.txt\"):\n",
    "    filename = path.removeprefix(logdir)\n",
    "    params = filename.removesuffix(\".txt\").split(\"_\")\n",
    "    data = {\n",
    "        \"filename\": filename,\n",
    "        \"a\": int(params[0]),\n",
    "        \"b\": int(params[1]),\n",
    "        \"d1\":int(params[2]), #cm\n",
    "        \"d2\":int(params[3]), #cm\n",
    "        \"baudrate\": int(params[4].replace('k', '000')),\n",
    "        \"receiver\": params[5],\n",
    "        \"delta_fsk\": clock/int(params[0]) - clock/int(params[1]),\n",
    "        \"file_delay_s\": None,\n",
    "        \"bit_reliability\": None,\n",
    "        \"dis_metric\": None,\n",
    "        \"delta_f\": (clock/int(params[0]) + clock/int(params[1]))/2,\n",
    "    }\n",
    "    experiments_df[filename] = readfile(path)\n",
    "    experiments = pd.concat([pd.DataFrame(data, index=[0]), experiments], ignore_index=True)\n",
    "print(experiments)\n"
   ]
  },
  {
   "cell_type": "code",
   "execution_count": null,
   "id": "7917dcea-d362-4574-8a95-322d64e605d4",
   "metadata": {},
   "outputs": [],
   "source": [
    "''' Calculate the file delay, bit reliability, and distance metric for each experiment'''\n",
    "\n",
    "for idx, experiment in experiments.iterrows():\n",
    "    print(f\"Processing {experiment['filename']}\")\n",
    "    df = experiments_df[experiment[\"filename\"]]\n",
    "    \n",
    "    # delete the corrupted packets (PAYLOADSIZE + 2B pesudo sequence number)\n",
    "    df = df[df.payload.apply(lambda x: len(x)==((PAYLOADSIZE)*3-1))]\n",
    "    df.reset_index(inplace=True)\n",
    "    # replace the resettable seq number to unresettable, for the purpose of reliability calculation\n",
    "    test = replace_seq(df.copy(), MAX_SEQ=256)\n",
    "    test.rename(columns = {'seq':'old_seq', 'new_seq':'seq'}, inplace = True)\n",
    "\n",
    "    # compute the file delay\n",
    "    file_delay = df.time_rx[len(df) - 1] - df.time_rx[0]\n",
    "    # convert the timedelta to s\n",
    "    file_delay_s = np.timedelta64(file_delay, \"ms\").astype(int) / 1000\n",
    "    experiments.loc[idx, \"file_delay_s\"] = file_delay_s\n",
    "\n",
    "    # compute the BER for all received packets\n",
    "    # return the in total ber for received file, error statistics and correct file content supposed to be transmitted\n",
    "    ber, error, file_content = compute_ber(test, PACKET_LEN=NUM_16RND*2, MAX_SEQ=MAX_SEQ)\n",
    "    bit_reliability = (1-ber)*100\n",
    "    experiments.loc[idx, \"bit_reliability\"] = bit_reliability\n",
    "\n",
    "    # record the distance\n",
    "    dis_carrier_tag = experiment[\"d1\"]/100 # cm -> m\n",
    "    dis_tag_rx = experiment[\"d2\"]/100 # cm -> m\n",
    "\n",
    "    dis_metric = dis_carrier_tag**2*dis_tag_rx**2\n",
    "    experiments.loc[idx, \"dis_metric\"] = dis_metric\n"
   ]
  },
  {
   "cell_type": "code",
   "execution_count": null,
   "id": "eff05149",
   "metadata": {},
   "outputs": [],
   "source": [
    "fig, ax = plt.subplots()\n",
    "\n",
    "# Plot the fig for each baudrate and distance\n",
    "## filter out baudrate not equal to 90000\n",
    "data = experiments.loc[experiments[\"baudrate\"] == 90000]\n",
    "for key, grp in data.groupby(['d1','d2','baudrate']):\n",
    "    ## filter out the delta_fsk >= 1\n",
    "    grp = grp.loc[grp[\"delta_fsk\"] < 1]\n",
    "    grp.sort_values(by=['delta_fsk'], inplace=True)\n",
    "    ax = plt.plot(grp['delta_fsk'], grp['bit_reliability'], label=key, marker='o', linestyle='--', markersize=5)\n",
    "\n",
    "plt.title('Bit Reliability vs. Delta_fsk (d1, d2, baudrate)')\n",
    "plt.xlabel('delta_fsk')\n",
    "plt.ylabel('bit_reliability')\n",
    "plt.legend(title='(d1, d2, baudrate)')\n",
    "plt.show()"
   ]
  },
  {
   "cell_type": "code",
   "execution_count": null,
   "id": "7512c8ad-c1a4-4abe-9117-2a910a819cd2",
   "metadata": {},
   "outputs": [],
   "source": [
    "fig, ax = plt.subplots()\n",
    "\n",
    "# Plot the fig for each baudrate and distance\n",
    "## filter out baudrate not equal to 90000\n",
    "data = experiments.loc[experiments[\"baudrate\"] == 90000]\n",
    "for key, grp in data.groupby(['d1','d2','baudrate']):\n",
    "    ## filter out the delta_fsk >= 1\n",
    "    grp = grp.loc[grp[\"delta_fsk\"] < 1]\n",
    "    grp.sort_values(by=['delta_fsk'], inplace=True)\n",
    "    ax = plt.plot(grp['delta_fsk'], grp['file_delay_s'], label=key, marker='o', linestyle='--', markersize=5)\n",
    "\n",
    "plt.title('Total 100 Packets Transmission Time vs. Delta_fsk (d1, d2, baudrate)')\n",
    "plt.xlabel('delta_fsk')\n",
    "plt.ylabel('time (second)')\n",
    "plt.legend(title='(d1, d2, baudrate)')\n",
    "plt.show()"
   ]
  },
  {
   "cell_type": "code",
   "execution_count": null,
   "id": "2e2c9a65",
   "metadata": {},
   "outputs": [],
   "source": []
  },
  {
   "cell_type": "markdown",
   "id": "9ef0d098",
   "metadata": {},
   "source": [
    "# Radarplot"
   ]
  },
  {
   "cell_type": "markdown",
   "id": "fcdc7949",
   "metadata": {},
   "source": [
    "**Please pay attention to the unit**\n",
    "<br> <font color='red'>Time</font>: use second as unit\n",
    "<br> <font color='red'>Reliability</font>: use the percent as unit\n",
    "<br> <font color='red'>Distance</font>: use meter as unit\n",
    "<br>**Metics = [Time(s), Reliability(%), Distance(m)]**\n",
    "<br> <font color='red'>Always keep the reference in your plot.</font>\n",
    "<br> Tips: for ploting, time metric uses $\\frac{1}{Time}*1000$ as the time metric, the higher the value the better the system performance"
   ]
  },
  {
   "cell_type": "code",
   "execution_count": null,
   "id": "30fc02ae",
   "metadata": {},
   "outputs": [],
   "source": [
    "for idx, experiment in experiments.iterrows():\n",
    "    metrics = [experiment[\"file_delay_s\"], experiment[\"bit_reliability\"], experiment[\"dis_metric\"]]\n",
    "    radar_plot(metrics)"
   ]
  },
  {
   "cell_type": "code",
   "execution_count": null,
   "id": "3b5ec308-8f46-428f-b668-cc3b00fc53db",
   "metadata": {},
   "outputs": [],
   "source": []
  },
  {
   "cell_type": "code",
   "execution_count": null,
   "id": "15ab4592-2707-4960-a5da-2dfacd06021a",
   "metadata": {},
   "outputs": [],
   "source": []
  }
 ],
 "metadata": {
  "kernelspec": {
   "display_name": "ML-classification",
   "language": "python",
   "name": "ml-classification"
  },
  "language_info": {
   "codemirror_mode": {
    "name": "ipython",
    "version": 3
   },
   "file_extension": ".py",
   "mimetype": "text/x-python",
   "name": "python",
   "nbconvert_exporter": "python",
   "pygments_lexer": "ipython3",
   "version": "3.10.4"
  },
  "toc-autonumbering": true
 },
 "nbformat": 4,
 "nbformat_minor": 5
}
